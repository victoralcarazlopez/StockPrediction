{
 "cells": [
  {
   "cell_type": "code",
   "execution_count": 31,
   "metadata": {},
   "outputs": [],
   "source": [
    "import matplotlib.pyplot as plt"
   ]
  },
  {
   "cell_type": "code",
   "execution_count": 32,
   "metadata": {},
   "outputs": [],
   "source": [
    "model1_train_Error = 191.13\n",
    "model1_test_Error = 246.94\n",
    "\n",
    "model2_train_Error = 52.70\n",
    "model2_test_Error = 58.00"
   ]
  },
  {
   "cell_type": "code",
   "execution_count": 35,
   "metadata": {},
   "outputs": [
    {
     "data": {
      "image/png": "[encoded data removed]",
      "text/plain": [
       "<Figure size 432x288 with 1 Axes>"
      ]
     },
     "metadata": {
      "needs_background": "light"
     },
     "output_type": "display_data"
    }
   ],
   "source": [
    "labels1 = [ 'M1 - Train', 'M1 - Test']\n",
    "values1 = [ model1_train_Error, model1_test_Error]\n",
    "\n",
    "labels2 = [ 'M2 - Train', 'M2 - Test']\n",
    "values2 = [ model2_train_Error, model2_test_Error]\n",
    "\n",
    "\n",
    "plt.bar(labels1, values1, color ='blue', width = 0.5)\n",
    "plt.bar(labels2, values2, color ='red', width = 0.5)\n",
    " \n",
    "plt.xlabel(\"Modelo\")\n",
    "plt.ylabel(\"Error\")\n",
    "plt.title(\"Comparativa error Modelo 1 vs Modelo 2\")\n",
    "plt.show()"
   ]
  }
 ],
 "metadata": {
  "interpreter": {
   "hash": "78ddfc3686b8b7161f2836984651df038ec9a0366954334fc42499f59ad2b3c8"
  },
  "kernelspec": {
   "display_name": "Python 3.9.11 ('tf')",
   "language": "python",
   "name": "python3"
  },
  "language_info": {
   "codemirror_mode": {
    "name": "ipython",
    "version": 3
   },
   "file_extension": ".py",
   "mimetype": "text/x-python",
   "name": "python",
   "nbconvert_exporter": "python",
   "pygments_lexer": "ipython3",
   "version": "3.9.11"
  },
  "orig_nbformat": 4
 },
 "nbformat": 4,
 "nbformat_minor": 2
}
