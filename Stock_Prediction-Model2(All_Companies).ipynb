{
  "cells": [
    {
      "cell_type": "markdown",
      "metadata": {},
      "source": [
        "Este fichero crea un dataset único con los datos de todas las compañias y realiza una predicción de todas sobre ese dataset."
      ]
    },
    {
      "cell_type": "code",
      "execution_count": 81,
      "metadata": {},
      "outputs": [],
      "source": [
        "# LIBRERIAS\n",
        "\n",
        "\n",
        "import os\n",
        "import tensorflow as tf\n",
        "import tensorflow.keras as keras\n",
        "import pandas as pd\n",
        "import matplotlib.pyplot as plt\n",
        "import numpy as np\n",
        "from sklearn.preprocessing import StandardScaler\n",
        "from sklearn.preprocessing import MinMaxScaler\n",
        "from tensorflow.keras.models import Sequential\n",
        "from tensorflow.keras.layers import Dense\n",
        "from tensorflow.keras.layers import LSTM\n",
        "from sklearn.model_selection import TimeSeriesSplit\n",
        "import math\n",
        "from sklearn.metrics import mean_squared_error\n",
        "from tensorflow.keras.callbacks import EarlyStopping\n",
        "from sklearn.model_selection import GridSearchCV\n",
        "import keras_tuner as kt\n",
        "\n",
        "\n",
        "#tf.config.list_physical_devices('GPU') "
      ]
    },
    {
      "cell_type": "code",
      "execution_count": 82,
      "metadata": {},
      "outputs": [],
      "source": [
        "# Lectura de ficheros con los datasets de las empresas a analizar\n",
        "\n",
        "companies = {}\n",
        "ficheros = os.listdir('data')\n",
        "\n",
        "for file in ficheros:\n",
        "    company = file[:-4]\n",
        "    dfcompany = pd.read_csv(f\"data/{file}\")\n",
        "    companies[company] = dfcompany\n",
        "\n",
        "\n"
      ]
    },
    {
      "cell_type": "code",
      "execution_count": 83,
      "metadata": {},
      "outputs": [],
      "source": [
        "# Creación de una matriz de datos de para la red neuronal\n",
        "def create_dataset(dataset, look_back):\n",
        "\tx_data, y_data = [], []\n",
        "\tfor i in range(len(dataset)-look_back-1):\n",
        "\t\tx = dataset[i:(i+look_back), 0]\n",
        "\t\tx_data.append(x)\n",
        "\t\ty = dataset[i + look_back, 0]\n",
        "\t\ty_data.append(y)\n",
        "        \n",
        "\treturn np.array(x_data), np.array(y_data)\n",
        "\n",
        "def graficar(dfcompany, company):\n",
        "\tplt.plot(dfcompany)\n",
        "\tplt.xlabel('Days')\n",
        "\tplt.ylabel('Price')\n",
        "\tplt.title(label=company)\n",
        "\n",
        "# Graficar el resultado\n",
        "def graficarResultado(dfcompany, look_back, train_predict, test_predict):\n",
        "    # Ajustamos los datos para mostrar la predicción\n",
        "    trainPredictPlot = np.empty_like(dfcompany)\n",
        "    trainPredictPlot[:, :] = np.nan\n",
        "    trainPredictPlot[look_back:len(train_predict)+look_back,:] = train_predict\n",
        "    \n",
        "    testPredictPlot = np.empty_like(dfcompany)\n",
        "    testPredictPlot[:, :] = np.nan\n",
        "    testPredictPlot[len(train_predict)+(look_back*2)+1:len(dfcompany)-1, :] = test_predict\n",
        "\n",
        "    # Mostrar las los datos originales y la predicción\n",
        "    plt.plot(scaler.inverse_transform(dfcompany), label='Original data')\n",
        "    plt.plot(trainPredictPlot, label='Train prediction')\n",
        "    plt.plot(testPredictPlot, label='Test prediction')\n",
        "    plt.legend()\n",
        "    \n",
        "    plt.xlabel('Days')\n",
        "    plt.ylabel('Price')\n",
        "    plt.show()\n",
        "\t\n",
        "#Separar datos de entrenamiento y test\n",
        "def split (dfcompany, look_back, percent=70):\n",
        "    training_size = int(len(dfcompany)*percent) \n",
        "    test_size = len(dfcompany)-training_size \n",
        "\n",
        "    train_data, test_data = dfcompany[0:training_size,:], dfcompany[training_size:len(dfcompany),:1]\n",
        "\n",
        "\n",
        "    #Creamos la matrix para los datos de entrenamiento y test    \n",
        "    X_train, y_train = create_dataset(train_data, look_back) #(,) (,)\n",
        "    X_test, y_test = create_dataset(test_data, look_back) #(,) (,)\n",
        "    #print(f\"La matriz X_train tiene la forma: {X_train.shape}\")\n",
        "    #print(f\"La matriz y_train tiene la forma: {y_train.shape}\")\n",
        "    #print(f\"La matriz X_test tiene la forma: {X_test.shape}\")\n",
        "    #print(f\"La matriz y_test tiene la forma: {y_test.shape}\")\n",
        "    \n",
        "\n",
        "    # Hay que hacer reshape a las entradas de la red LSTM añadiendo 1 dimension [samples, look_back, features]\n",
        "    X_train = X_train.reshape(X_train.shape[0],X_train.shape[1] , 1)\n",
        "    X_test = X_test.reshape(X_test.shape[0],X_test.shape[1] , 1)\n",
        "\n",
        "\n",
        "    return X_train, X_test, y_train, y_test\n",
        "\n"
      ]
    },
    {
      "cell_type": "code",
      "execution_count": 84,
      "metadata": {},
      "outputs": [],
      "source": [
        "def model_builder(hp):\n",
        "  '''\n",
        "  Args:\n",
        "    hp - Keras tuner object\n",
        "  '''\n",
        "  # Initialize the Sequential API and start stacking the layers\n",
        "  model = keras.Sequential()\n",
        "\n",
        "  # Tune the number of units in the first LSTM layer\n",
        "  # Choose an optimal value between 10-100\n",
        "  hp_units0 = hp.Int('units0', min_value=10, max_value=100, step=20)\n",
        "  model.add(LSTM(units=hp_units0, input_shape=(look_back,1), name='LSTM1'))\n",
        "\n",
        "  \n",
        "  # Add next layers\n",
        "  model.add(keras.layers.Dropout(0.2))\n",
        "  model.add(Dense(1, activation='linear'))\n",
        "\n",
        "  # Tune the learning rate for the optimizer\n",
        "  # Choose an optimal value from 0.01, 0.001, or 0.0001\n",
        "  hp_learning_rate = hp.Choice('learning_rate', values=[1e-2, 1e-3, 1e-4])\n",
        "\n",
        "  model.compile(optimizer=keras.optimizers.Adam(learning_rate=hp_learning_rate),\n",
        "                loss='mean_squared_error',\n",
        "                metrics=['mse'])\n",
        "\n",
        "  return model"
      ]
    },
    {
      "cell_type": "code",
      "execution_count": 85,
      "metadata": {},
      "outputs": [],
      "source": [
        "def prediccion (model, scaler, X_train, X_test, y_train, y_test, look_back):\n",
        "    # Realizar predicción sobre datos de entranamiento y test\n",
        "    train_predict = model.predict(X_train)\n",
        "    test_predict = model.predict(X_test)\n",
        "\n",
        "    # Transformamos los datos a su escala original\n",
        "    train_predict = scaler.inverse_transform(train_predict)\n",
        "    test_predict = scaler.inverse_transform(test_predict)\n",
        "\n",
        "    return  train_predict, test_predict"
      ]
    },
    {
      "cell_type": "code",
      "execution_count": 86,
      "metadata": {},
      "outputs": [
        {
          "name": "stdout",
          "output_type": "stream",
          "text": [
            "INFO:tensorflow:Reloading Oracle from existing project keras_tuner_dir\\Stock_prediction\\oracle.json\n",
            "INFO:tensorflow:Reloading Tuner from keras_tuner_dir\\Stock_prediction\\tuner0.json\n",
            "Search space summary\n",
            "Default search space size: 3\n",
            "units0 (Int)\n",
            "{'default': None, 'conditions': [], 'min_value': 10, 'max_value': 100, 'step': 20, 'sampling': None}\n",
            "units1 (Int)\n",
            "{'default': None, 'conditions': [], 'min_value': 10, 'max_value': 100, 'step': 20, 'sampling': None}\n",
            "learning_rate (Choice)\n",
            "{'default': 0.01, 'conditions': [], 'values': [0.01, 0.001, 0.0001], 'ordered': True}\n"
          ]
        }
      ],
      "source": [
        "# Definimos cuantos días usará el modelo para predecir el día siguiente\n",
        "look_back = 50\n",
        "\n",
        "# Instanciamos el tuner\n",
        "tuner = kt.Hyperband(model_builder, # the hypermodel\n",
        "                    objective='val_loss', # objective to optimize\n",
        "                    max_epochs=10,\n",
        "                    factor=3, # the denominator of the number of models trained in every iteration of the training loop.\n",
        "                    directory='keras_tuner_dir', # directory to save logs \n",
        "                    project_name='Stock_prediction')\n",
        "\n",
        "# hypertuning settings\n",
        "tuner.search_space_summary() \n",
        "\n",
        "stop_early = tf.keras.callbacks.EarlyStopping(monitor='val_loss',mode='min', patience=20, min_delta=0.5)"
      ]
    },
    {
      "cell_type": "code",
      "execution_count": 87,
      "metadata": {},
      "outputs": [],
      "source": [
        "def generarHipermodelo(X_train, y_train, X_test, y_test): \n",
        "    # Perform hypertuning\n",
        "    tuner.search(X_train, y_train, epochs=10, validation_data=(X_test,y_test), callbacks=[stop_early]) \n",
        "\n",
        "    best_hp = tuner.get_best_hyperparameters()[0]\n",
        "\n",
        "    # Build the model with the optimal hyperparameters\n",
        "    h_model = tuner.hypermodel.build(best_hp)\n",
        "    h_model.summary()\n",
        "    print(tuner.get_best_hyperparameters()[0].get('learning_rate'))\n",
        "\n",
        "    print('#### Fin de optimizacion ####')\n",
        "\n",
        "    return h_model\n",
        "\n",
        "\n"
      ]
    },
    {
      "cell_type": "code",
      "execution_count": 88,
      "metadata": {},
      "outputs": [],
      "source": [
        "def generarResultadosAllCompanies(X_train, y_train, X_test, y_test):\n",
        "\n",
        "\n",
        "    h_model = generarHipermodelo(X_train, y_train, X_test, y_test)\n",
        "    #Entrenamiento del modelo mejorado\n",
        "    history = h_model.fit(X_train, y_train, epochs=50, batch_size=64, validation_split=0.2, callbacks=[stop_early])\n",
        "\n",
        "    train_predict, test_predict = prediccion(h_model, scaler, X_train, X_test, y_train, y_test, look_back)\n",
        "\n",
        "    # Calculamos el error en entrenamiento y test\n",
        "    train_error = math.sqrt(mean_squared_error(y_train, train_predict))\n",
        "    test_error = math.sqrt(mean_squared_error(y_test, test_predict))\n",
        "\n",
        "    \n",
        "    print(f\"Error entrenamiento: {train_error}\")\n",
        "    print(f\"Error test: {test_error}\")\n",
        "\n",
        "    #graficarResultado(dfcompany, look_back, train_predict, test_predict)\n",
        "    return history, train_error, test_error, test_predict"
      ]
    },
    {
      "cell_type": "code",
      "execution_count": 89,
      "metadata": {},
      "outputs": [
        {
          "name": "stdout",
          "output_type": "stream",
          "text": [
            "Tamaño de X_train: (84129, 50, 1)\n",
            "Tamaño de y_train: (84129,)\n",
            "Tamaño de X_test: (5827, 50, 1)\n",
            "Tamaño de y_test: (5827,)\n"
          ]
        }
      ],
      "source": [
        "# Concatenar X_train, X_test, y_train, y_test generados para cada empresa creando asi un cjto de entrenamiento y test con todos los datos disponibles\n",
        "look_back = 50\n",
        "scaler = StandardScaler()\n",
        "\n",
        "#La primera compañia del diccionario la generamos para poder hacer la concatenacion\n",
        "#Obtenemos la primera compañia del diccionario 'companies' \n",
        "firstCompany = next(iter(companies))\n",
        "\n",
        "\n",
        "dfcompany = companies[firstCompany]\n",
        "dfcompany = dfcompany.reset_index()['close']\n",
        "dfcompany = scaler.fit_transform(np.array(dfcompany).reshape(-1,1))\n",
        "X_train, X_test, y_train, y_test = split(dfcompany, look_back, percent=0.90)\n",
        "\n",
        "\n",
        "for company in companies:\n",
        "    #print(np.shape(companies[company])[0])\n",
        "    #La primera empresa la hemos añadido manualmente para que no haya errores al concatenar la primera vez\n",
        "    if company != firstCompany:\n",
        "        dfcompany = companies[company]\n",
        "        dfcompany = dfcompany.reset_index()['close']\n",
        "        dfcompany = scaler.fit_transform(np.array(dfcompany).reshape(-1,1))\n",
        "        X_train2, X_test2, y_train2, y_test2 = split(dfcompany, look_back, percent=0.90)\n",
        "        X_train = np.concatenate([X_train, X_train2])\n",
        "        y_train = np.concatenate([y_train, y_train2])\n",
        "        X_test = np.concatenate([X_test, X_test2])\n",
        "        y_test = np.concatenate([y_test, y_test2])\n",
        "    \n",
        "print(f\"Tamaño de X_train: {X_train.shape}\")\n",
        "print(f\"Tamaño de y_train: {y_train.shape}\")\n",
        "print(f\"Tamaño de X_test: {X_test.shape}\")\n",
        "print(f\"Tamaño de y_test: {y_test.shape}\")"
      ]
    },
    {
      "cell_type": "code",
      "execution_count": 90,
      "metadata": {},
      "outputs": [
        {
          "name": "stdout",
          "output_type": "stream",
          "text": [
            "INFO:tensorflow:Oracle triggered exit\n",
            "Model: \"sequential_11\"\n",
            "_________________________________________________________________\n",
            "Layer (type)                 Output Shape              Param #   \n",
            "=================================================================\n",
            "LSTM1 (LSTM)                 (None, 90)                33120     \n",
            "_________________________________________________________________\n",
            "dropout_11 (Dropout)         (None, 90)                0         \n",
            "_________________________________________________________________\n",
            "dense_11 (Dense)             (None, 1)                 91        \n",
            "=================================================================\n",
            "Total params: 33,211\n",
            "Trainable params: 33,211\n",
            "Non-trainable params: 0\n",
            "_________________________________________________________________\n",
            "0.01\n",
            "#### Fin de optimizacion ####\n",
            "Epoch 1/50\n",
            "1052/1052 [==============================] - 13s 11ms/step - loss: 0.0232 - mse: 0.0232 - val_loss: 0.0105 - val_mse: 0.0105\n",
            "Epoch 2/50\n",
            "1052/1052 [==============================] - 12s 11ms/step - loss: 0.0177 - mse: 0.0177 - val_loss: 0.0112 - val_mse: 0.0112\n",
            "Epoch 3/50\n",
            "1052/1052 [==============================] - 11s 11ms/step - loss: 0.0181 - mse: 0.0181 - val_loss: 0.0113 - val_mse: 0.0113\n",
            "Epoch 4/50\n",
            "1052/1052 [==============================] - 11s 10ms/step - loss: 0.0177 - mse: 0.0177 - val_loss: 0.0109 - val_mse: 0.0109\n",
            "Epoch 5/50\n",
            "1052/1052 [==============================] - 10s 9ms/step - loss: 0.0177 - mse: 0.0177 - val_loss: 0.0115 - val_mse: 0.0115\n",
            "Epoch 6/50\n",
            "1052/1052 [==============================] - 12s 11ms/step - loss: 0.0181 - mse: 0.0181 - val_loss: 0.0106 - val_mse: 0.0106\n",
            "Epoch 7/50\n",
            "1052/1052 [==============================] - 11s 10ms/step - loss: 0.0175 - mse: 0.0175 - val_loss: 0.0108 - val_mse: 0.0108\n",
            "Epoch 8/50\n",
            "1052/1052 [==============================] - 10s 9ms/step - loss: 0.0172 - mse: 0.0172 - val_loss: 0.0120 - val_mse: 0.0120\n",
            "Epoch 9/50\n",
            "1052/1052 [==============================] - 12s 11ms/step - loss: 0.0171 - mse: 0.0171 - val_loss: 0.0154 - val_mse: 0.0154\n",
            "Epoch 10/50\n",
            "1052/1052 [==============================] - 11s 11ms/step - loss: 0.0179 - mse: 0.0179 - val_loss: 0.0108 - val_mse: 0.0108\n",
            "Epoch 11/50\n",
            "1052/1052 [==============================] - 10s 10ms/step - loss: 0.0173 - mse: 0.0173 - val_loss: 0.0127 - val_mse: 0.0127\n",
            "Epoch 12/50\n",
            "1052/1052 [==============================] - 11s 10ms/step - loss: 0.0174 - mse: 0.0174 - val_loss: 0.0127 - val_mse: 0.0127\n",
            "Epoch 13/50\n",
            "1052/1052 [==============================] - 9s 9ms/step - loss: 0.0209 - mse: 0.0209 - val_loss: 0.0105 - val_mse: 0.0105\n",
            "Epoch 14/50\n",
            "1052/1052 [==============================] - 10s 10ms/step - loss: 0.0173 - mse: 0.0173 - val_loss: 0.0167 - val_mse: 0.0167\n",
            "Epoch 15/50\n",
            "1052/1052 [==============================] - 11s 10ms/step - loss: 0.0171 - mse: 0.0171 - val_loss: 0.0106 - val_mse: 0.0106\n",
            "Epoch 16/50\n",
            "1052/1052 [==============================] - 11s 11ms/step - loss: 0.0168 - mse: 0.0168 - val_loss: 0.0110 - val_mse: 0.0110\n",
            "Epoch 17/50\n",
            "1052/1052 [==============================] - 11s 10ms/step - loss: 0.0169 - mse: 0.0169 - val_loss: 0.0110 - val_mse: 0.0110\n",
            "Epoch 18/50\n",
            "1052/1052 [==============================] - 12s 11ms/step - loss: 0.0228 - mse: 0.0228 - val_loss: 0.0108 - val_mse: 0.0108\n",
            "Epoch 19/50\n",
            "1052/1052 [==============================] - 12s 12ms/step - loss: 0.0197 - mse: 0.0197 - val_loss: 0.0107 - val_mse: 0.0107\n",
            "Epoch 20/50\n",
            "1052/1052 [==============================] - 10s 10ms/step - loss: 0.0173 - mse: 0.0173 - val_loss: 0.0114 - val_mse: 0.0114\n",
            "Epoch 21/50\n",
            "1052/1052 [==============================] - 12s 11ms/step - loss: 0.0190 - mse: 0.0190 - val_loss: 0.0218 - val_mse: 0.0218\n",
            "Error entrenamiento: 52.0285084339542\n",
            "Error test: 56.78467504164378\n"
          ]
        }
      ],
      "source": [
        "\n",
        "history, train_error, test_error, test_predict = generarResultadosAllCompanies(X_train, y_train, X_test, y_test)\n",
        "    \n"
      ]
    },
    {
      "cell_type": "code",
      "execution_count": 91,
      "metadata": {},
      "outputs": [
        {
          "data": {
            "image/png": "[encoded data removed]",
            "text/plain": [
              "<Figure size 432x288 with 1 Axes>"
            ]
          },
          "metadata": {
            "needs_background": "light"
          },
          "output_type": "display_data"
        }
      ],
      "source": [
        "# plot training history\n",
        "plt.plot(history.history['loss'], label='train')\n",
        "plt.plot(history.history['val_loss'], label='test')\n",
        "plt.legend()\n",
        "\n",
        "plt.show()"
      ]
    },
    {
      "cell_type": "code",
      "execution_count": 92,
      "metadata": {},
      "outputs": [
        {
          "name": "stdout",
          "output_type": "stream",
          "text": [
            "dict_keys(['loss', 'mse', 'val_loss', 'val_mse'])\n",
            "[0.010502413846552372, 0.011217115446925163, 0.01129436306655407, 0.010903018526732922, 0.011509949341416359, 0.010558998212218285, 0.010846788063645363, 0.012018274515867233, 0.015362256206572056, 0.010769898071885109, 0.012739378027617931, 0.012692679651081562, 0.010543275624513626, 0.016729742288589478, 0.010551268234848976, 0.01101264264434576, 0.01095000933855772, 0.010846779681742191, 0.010684271343052387, 0.01144491508603096, 0.021807337179780006]\n"
          ]
        }
      ],
      "source": [
        "print(history.history.keys())\n",
        "\n",
        "print(history.history['val_loss'])"
      ]
    },
    {
      "cell_type": "code",
      "execution_count": 95,
      "metadata": {},
      "outputs": [],
      "source": [
        "y_test = scaler.inverse_transform(y_test.reshape(-1,1))"
      ]
    },
    {
      "cell_type": "code",
      "execution_count": 109,
      "metadata": {},
      "outputs": [
        {
          "name": "stdout",
          "output_type": "stream",
          "text": [
            "(5827, 1)\n",
            "Valor real: [45.59677504]\n",
            "Valor predicción: [45.42838]\n"
          ]
        }
      ],
      "source": [
        "\n",
        "index = 1\n",
        "#value_at_index = list(companies.values())[index]\n",
        "#print(value_at_index)\n",
        "\n",
        "print(np.shape(y_test))\n",
        "print(f\"Valor real: {y_test[index]}\")\n",
        "print(f\"Valor predicción: {test_predict[index]}\")\n"
      ]
    }
  ],
  "metadata": {
    "colab": {
      "collapsed_sections": [],
      "name": "StockPrediction - 2.0.ipynb",
      "provenance": []
    },
    "interpreter": {
      "hash": "78ddfc3686b8b7161f2836984651df038ec9a0366954334fc42499f59ad2b3c8"
    },
    "kernelspec": {
      "display_name": "Python 3.9.11 ('tf')",
      "language": "python",
      "name": "python3"
    },
    "language_info": {
      "codemirror_mode": {
        "name": "ipython",
        "version": 3
      },
      "file_extension": ".py",
      "mimetype": "text/x-python",
      "name": "python",
      "nbconvert_exporter": "python",
      "pygments_lexer": "ipython3",
      "version": "3.9.11"
    }
  },
  "nbformat": 4,
  "nbformat_minor": 0
}
