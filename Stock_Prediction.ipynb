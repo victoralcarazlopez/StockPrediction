{
  "cells": [
    {
      "cell_type": "markdown",
      "metadata": {
        "id": "dr4CKW071y9K"
      },
      "source": [
        "### Stock Market Prediction And Forecasting Using Stacked LSTM"
      ]
    },
    {
      "cell_type": "code",
      "execution_count": 1,
      "metadata": {
        "id": "mW_D9I8G1y9Q"
      },
      "outputs": [],
      "source": [
        "#ENTORNO DE DESPLIEGUE CON ANACONDA\n",
        "\n",
        "# conda create -n tf tensorflow \n",
        "# conda activate tf\n",
        "# conda install -c anaconda pandas-datareader\n",
        "# conda env list //para ver entornos y ver cual esta activo\n",
        "# conda install -n tf ipykernel --update-deps --force-reinstall\n",
        "# conda install -c anaconda pandas\n",
        "# conda install -c anaconda scikit-learn\n",
        "# conda install -c conda-forge matplotlib\n",
        "\n",
        "# conda list //ver paquetes instalados en entorno\n",
        "# conda remove keras //eliminar paquete del entorno\n",
        "# pip uninstall keras //si fue instalado con pip y no desde anaconda\n",
        "\n",
        " "
      ]
    },
    {
      "cell_type": "code",
      "execution_count": 5,
      "metadata": {},
      "outputs": [],
      "source": [
        "#LIBRERIAS\n",
        "\n",
        "import tensorflow as tf\n",
        "import pandas as pd\n",
        "import matplotlib.pyplot as plt\n",
        "import numpy as np\n",
        "from sklearn.preprocessing import MinMaxScaler\n",
        "from tensorflow.keras.models import Sequential\n",
        "from tensorflow.keras.layers import Dense\n",
        "from tensorflow.keras.layers import LSTM\n",
        "from sklearn.model_selection import TimeSeriesSplit\n",
        "\n",
        "#print(tf.__version__)"
      ]
    },
    {
      "cell_type": "code",
      "execution_count": 3,
      "metadata": {},
      "outputs": [],
      "source": [
        "# LEEMOS CADA UNO DE LOS FICHEROS GENERADOS\n",
        "\n",
        "#Vamos a trabajar con 1/3 de los valores para mayor agilidad. En el futuro trabajaremos con todas las empresas\n",
        "#dfsymbols = pd.read_csv('symbols_Nasdaq100_all.txt', sep = ' ', header=None)\n",
        "dfsymbols = pd.read_csv('symbols_Nasdaq100_1.txt', sep = ' ', header=None)\n",
        "\n",
        "dfnasdaq = []\n",
        "\n",
        "for i in range(len(dfsymbols)):  \n",
        "    company = str(dfsymbols[0][i]) \n",
        "    dfcompany = pd.read_csv(f\"files/{company}.csv\")\n",
        "    #print(dfcompany)\n",
        "    dfnasdaq.append(dfcompany)\n",
        "        "
      ]
    },
    {
      "cell_type": "code",
      "execution_count": 4,
      "metadata": {},
      "outputs": [
        {
          "data": {
            "text/html": [
              "<div>\n",
              "<style scoped>\n",
              "    .dataframe tbody tr th:only-of-type {\n",
              "        vertical-align: middle;\n",
              "    }\n",
              "\n",
              "    .dataframe tbody tr th {\n",
              "        vertical-align: top;\n",
              "    }\n",
              "\n",
              "    .dataframe thead th {\n",
              "        text-align: right;\n",
              "    }\n",
              "</style>\n",
              "<table border=\"1\" class=\"dataframe\">\n",
              "  <thead>\n",
              "    <tr style=\"text-align: right;\">\n",
              "      <th></th>\n",
              "      <th>symbol</th>\n",
              "      <th>date</th>\n",
              "      <th>close</th>\n",
              "      <th>high</th>\n",
              "      <th>low</th>\n",
              "      <th>open</th>\n",
              "      <th>volume</th>\n",
              "      <th>adjClose</th>\n",
              "      <th>adjHigh</th>\n",
              "      <th>adjLow</th>\n",
              "      <th>adjOpen</th>\n",
              "      <th>adjVolume</th>\n",
              "      <th>divCash</th>\n",
              "      <th>splitFactor</th>\n",
              "    </tr>\n",
              "  </thead>\n",
              "  <tbody>\n",
              "    <tr>\n",
              "      <th>0</th>\n",
              "      <td>AMZN</td>\n",
              "      <td>2017-04-06 00:00:00+00:00</td>\n",
              "      <td>898.28</td>\n",
              "      <td>917.1899</td>\n",
              "      <td>894.4927</td>\n",
              "      <td>913.800</td>\n",
              "      <td>6344065</td>\n",
              "      <td>898.28</td>\n",
              "      <td>917.1899</td>\n",
              "      <td>894.4927</td>\n",
              "      <td>913.800</td>\n",
              "      <td>6344065</td>\n",
              "      <td>0.0</td>\n",
              "      <td>1.0</td>\n",
              "    </tr>\n",
              "    <tr>\n",
              "      <th>1</th>\n",
              "      <td>AMZN</td>\n",
              "      <td>2017-04-07 00:00:00+00:00</td>\n",
              "      <td>894.88</td>\n",
              "      <td>900.0900</td>\n",
              "      <td>889.3100</td>\n",
              "      <td>899.650</td>\n",
              "      <td>3707367</td>\n",
              "      <td>894.88</td>\n",
              "      <td>900.0900</td>\n",
              "      <td>889.3100</td>\n",
              "      <td>899.650</td>\n",
              "      <td>3707367</td>\n",
              "      <td>0.0</td>\n",
              "      <td>1.0</td>\n",
              "    </tr>\n",
              "    <tr>\n",
              "      <th>2</th>\n",
              "      <td>AMZN</td>\n",
              "      <td>2017-04-10 00:00:00+00:00</td>\n",
              "      <td>907.04</td>\n",
              "      <td>908.5100</td>\n",
              "      <td>899.0000</td>\n",
              "      <td>899.630</td>\n",
              "      <td>3184301</td>\n",
              "      <td>907.04</td>\n",
              "      <td>908.5100</td>\n",
              "      <td>899.0000</td>\n",
              "      <td>899.630</td>\n",
              "      <td>3184301</td>\n",
              "      <td>0.0</td>\n",
              "      <td>1.0</td>\n",
              "    </tr>\n",
              "    <tr>\n",
              "      <th>3</th>\n",
              "      <td>AMZN</td>\n",
              "      <td>2017-04-11 00:00:00+00:00</td>\n",
              "      <td>902.36</td>\n",
              "      <td>911.2400</td>\n",
              "      <td>897.5000</td>\n",
              "      <td>907.040</td>\n",
              "      <td>3012743</td>\n",
              "      <td>902.36</td>\n",
              "      <td>911.2400</td>\n",
              "      <td>897.5000</td>\n",
              "      <td>907.040</td>\n",
              "      <td>3012743</td>\n",
              "      <td>0.0</td>\n",
              "      <td>1.0</td>\n",
              "    </tr>\n",
              "    <tr>\n",
              "      <th>4</th>\n",
              "      <td>AMZN</td>\n",
              "      <td>2017-04-12 00:00:00+00:00</td>\n",
              "      <td>896.23</td>\n",
              "      <td>904.0900</td>\n",
              "      <td>895.2501</td>\n",
              "      <td>903.090</td>\n",
              "      <td>2456140</td>\n",
              "      <td>896.23</td>\n",
              "      <td>904.0900</td>\n",
              "      <td>895.2501</td>\n",
              "      <td>903.090</td>\n",
              "      <td>2456140</td>\n",
              "      <td>0.0</td>\n",
              "      <td>1.0</td>\n",
              "    </tr>\n",
              "    <tr>\n",
              "      <th>...</th>\n",
              "      <td>...</td>\n",
              "      <td>...</td>\n",
              "      <td>...</td>\n",
              "      <td>...</td>\n",
              "      <td>...</td>\n",
              "      <td>...</td>\n",
              "      <td>...</td>\n",
              "      <td>...</td>\n",
              "      <td>...</td>\n",
              "      <td>...</td>\n",
              "      <td>...</td>\n",
              "      <td>...</td>\n",
              "      <td>...</td>\n",
              "      <td>...</td>\n",
              "    </tr>\n",
              "    <tr>\n",
              "      <th>1253</th>\n",
              "      <td>AMZN</td>\n",
              "      <td>2022-03-29 00:00:00+00:00</td>\n",
              "      <td>3386.30</td>\n",
              "      <td>3416.6300</td>\n",
              "      <td>3357.3700</td>\n",
              "      <td>3407.680</td>\n",
              "      <td>3307680</td>\n",
              "      <td>3386.30</td>\n",
              "      <td>3416.6300</td>\n",
              "      <td>3357.3700</td>\n",
              "      <td>3407.680</td>\n",
              "      <td>3307680</td>\n",
              "      <td>0.0</td>\n",
              "      <td>1.0</td>\n",
              "    </tr>\n",
              "    <tr>\n",
              "      <th>1254</th>\n",
              "      <td>AMZN</td>\n",
              "      <td>2022-03-30 00:00:00+00:00</td>\n",
              "      <td>3326.02</td>\n",
              "      <td>3379.0100</td>\n",
              "      <td>3310.0000</td>\n",
              "      <td>3370.190</td>\n",
              "      <td>2808363</td>\n",
              "      <td>3326.02</td>\n",
              "      <td>3379.0100</td>\n",
              "      <td>3310.0000</td>\n",
              "      <td>3370.190</td>\n",
              "      <td>2808363</td>\n",
              "      <td>0.0</td>\n",
              "      <td>1.0</td>\n",
              "    </tr>\n",
              "    <tr>\n",
              "      <th>1255</th>\n",
              "      <td>AMZN</td>\n",
              "      <td>2022-03-31 00:00:00+00:00</td>\n",
              "      <td>3259.95</td>\n",
              "      <td>3329.9000</td>\n",
              "      <td>3259.0700</td>\n",
              "      <td>3328.895</td>\n",
              "      <td>2998289</td>\n",
              "      <td>3259.95</td>\n",
              "      <td>3329.9000</td>\n",
              "      <td>3259.0700</td>\n",
              "      <td>3328.895</td>\n",
              "      <td>2998289</td>\n",
              "      <td>0.0</td>\n",
              "      <td>1.0</td>\n",
              "    </tr>\n",
              "    <tr>\n",
              "      <th>1256</th>\n",
              "      <td>AMZN</td>\n",
              "      <td>2022-04-01 00:00:00+00:00</td>\n",
              "      <td>3271.20</td>\n",
              "      <td>3316.5400</td>\n",
              "      <td>3246.3900</td>\n",
              "      <td>3282.990</td>\n",
              "      <td>2854475</td>\n",
              "      <td>3271.20</td>\n",
              "      <td>3316.5400</td>\n",
              "      <td>3246.3900</td>\n",
              "      <td>3282.990</td>\n",
              "      <td>2854475</td>\n",
              "      <td>0.0</td>\n",
              "      <td>1.0</td>\n",
              "    </tr>\n",
              "    <tr>\n",
              "      <th>1257</th>\n",
              "      <td>AMZN</td>\n",
              "      <td>2022-04-04 00:00:00+00:00</td>\n",
              "      <td>3366.93</td>\n",
              "      <td>3367.8900</td>\n",
              "      <td>3264.1100</td>\n",
              "      <td>3282.500</td>\n",
              "      <td>2500398</td>\n",
              "      <td>3366.93</td>\n",
              "      <td>3367.8900</td>\n",
              "      <td>3264.1100</td>\n",
              "      <td>3282.500</td>\n",
              "      <td>2500398</td>\n",
              "      <td>0.0</td>\n",
              "      <td>1.0</td>\n",
              "    </tr>\n",
              "  </tbody>\n",
              "</table>\n",
              "<p>1258 rows × 14 columns</p>\n",
              "</div>"
            ],
            "text/plain": [
              "     symbol                       date    close       high        low  \\\n",
              "0      AMZN  2017-04-06 00:00:00+00:00   898.28   917.1899   894.4927   \n",
              "1      AMZN  2017-04-07 00:00:00+00:00   894.88   900.0900   889.3100   \n",
              "2      AMZN  2017-04-10 00:00:00+00:00   907.04   908.5100   899.0000   \n",
              "3      AMZN  2017-04-11 00:00:00+00:00   902.36   911.2400   897.5000   \n",
              "4      AMZN  2017-04-12 00:00:00+00:00   896.23   904.0900   895.2501   \n",
              "...     ...                        ...      ...        ...        ...   \n",
              "1253   AMZN  2022-03-29 00:00:00+00:00  3386.30  3416.6300  3357.3700   \n",
              "1254   AMZN  2022-03-30 00:00:00+00:00  3326.02  3379.0100  3310.0000   \n",
              "1255   AMZN  2022-03-31 00:00:00+00:00  3259.95  3329.9000  3259.0700   \n",
              "1256   AMZN  2022-04-01 00:00:00+00:00  3271.20  3316.5400  3246.3900   \n",
              "1257   AMZN  2022-04-04 00:00:00+00:00  3366.93  3367.8900  3264.1100   \n",
              "\n",
              "          open   volume  adjClose    adjHigh     adjLow   adjOpen  adjVolume  \\\n",
              "0      913.800  6344065    898.28   917.1899   894.4927   913.800    6344065   \n",
              "1      899.650  3707367    894.88   900.0900   889.3100   899.650    3707367   \n",
              "2      899.630  3184301    907.04   908.5100   899.0000   899.630    3184301   \n",
              "3      907.040  3012743    902.36   911.2400   897.5000   907.040    3012743   \n",
              "4      903.090  2456140    896.23   904.0900   895.2501   903.090    2456140   \n",
              "...        ...      ...       ...        ...        ...       ...        ...   \n",
              "1253  3407.680  3307680   3386.30  3416.6300  3357.3700  3407.680    3307680   \n",
              "1254  3370.190  2808363   3326.02  3379.0100  3310.0000  3370.190    2808363   \n",
              "1255  3328.895  2998289   3259.95  3329.9000  3259.0700  3328.895    2998289   \n",
              "1256  3282.990  2854475   3271.20  3316.5400  3246.3900  3282.990    2854475   \n",
              "1257  3282.500  2500398   3366.93  3367.8900  3264.1100  3282.500    2500398   \n",
              "\n",
              "      divCash  splitFactor  \n",
              "0         0.0          1.0  \n",
              "1         0.0          1.0  \n",
              "2         0.0          1.0  \n",
              "3         0.0          1.0  \n",
              "4         0.0          1.0  \n",
              "...       ...          ...  \n",
              "1253      0.0          1.0  \n",
              "1254      0.0          1.0  \n",
              "1255      0.0          1.0  \n",
              "1256      0.0          1.0  \n",
              "1257      0.0          1.0  \n",
              "\n",
              "[1258 rows x 14 columns]"
            ]
          },
          "execution_count": 4,
          "metadata": {},
          "output_type": "execute_result"
        }
      ],
      "source": [
        "# Tomamos datos de amazon para pruebas con el modelo.\n",
        "df = dfnasdaq[10]\n",
        "df"
      ]
    },
    {
      "cell_type": "code",
      "execution_count": 5,
      "metadata": {
        "id": "ODMTNTJi1y9Z"
      },
      "outputs": [
        {
          "data": {
            "text/plain": [
              "Text(0, 0.5, 'Price')"
            ]
          },
          "execution_count": 5,
          "metadata": {},
          "output_type": "execute_result"
        },
        {
          "data": {
            "image/png": "[encoded data removed]",
            "text/plain": [
              "<Figure size 432x288 with 1 Axes>"
            ]
          },
          "metadata": {
            "needs_background": "light"
          },
          "output_type": "display_data"
        }
      ],
      "source": [
        "# PREPROCESAMIENTO DE LOS DATOS\n",
        "# Descartamos todas las columnas y nos quedamos unicamente con el precio de cierre de la acción\n",
        "df1=df.reset_index()['close']\n",
        "#print(df1)\n",
        "plt.plot(df1)\n",
        "plt.xlabel('Days')\n",
        "plt.ylabel('Price')"
      ]
    },
    {
      "cell_type": "code",
      "execution_count": 18,
      "metadata": {
        "id": "6rRI0w2a1y9c"
      },
      "outputs": [
        {
          "name": "stdout",
          "output_type": "stream",
          "text": [
            "[[0.00478091]\n",
            " [0.00358656]\n",
            " [0.00785811]\n",
            " ...\n",
            " [0.834386  ]\n",
            " [0.83833789]\n",
            " [0.87196583]]\n"
          ]
        }
      ],
      "source": [
        "# PREPROCESAMIENTO DE LOS DATOS\n",
        "\n",
        "scaler=MinMaxScaler(feature_range=(0,1))\n",
        "df1=scaler.fit_transform(np.array(df1).reshape(-1,1))\n",
        "print(df1)"
      ]
    },
    {
      "cell_type": "code",
      "execution_count": 54,
      "metadata": {},
      "outputs": [
        {
          "name": "stdout",
          "output_type": "stream",
          "text": [
            "TRAIN: [0 1 2 3 4 5 6 7 8] TEST: [9]\n",
            "TRAIN: [0 1 2 3 4 5 6 7 8 9] TEST: [10]\n",
            "TRAIN: [ 0  1  2  3  4  5  6  7  8  9 10] TEST: [11]\n"
          ]
        }
      ],
      "source": [
        "#Time Series Split es una manera de hacer crossvalidation con series temporales. Vamos a aplicarlo al cjto de datos de entrenamiento\n",
        "X = np.random.randn(12, 2) \n",
        "y = np.random.randint(0, 2, 12)\n",
        "print(X)\n",
        "tscv = TimeSeriesSplit(n_splits=3, test_size=1)\n",
        "for train_index, test_index in tscv.split(X):\n",
        "   print(\"TRAIN:\", train_index, \"TEST:\", test_index)\n",
        "   X_train, X_test = X[train_index], X[test_index]\n",
        "   y_train, y_test = y[train_index], y[test_index]"
      ]
    },
    {
      "cell_type": "code",
      "execution_count": 56,
      "metadata": {},
      "outputs": [
        {
          "name": "stdout",
          "output_type": "stream",
          "text": [
            "(11, 2)\n",
            "(11,)\n"
          ]
        }
      ],
      "source": [
        "print(X_train.shape)\n",
        "print(y_train.shape)"
      ]
    },
    {
      "cell_type": "code",
      "execution_count": null,
      "metadata": {},
      "outputs": [],
      "source": [
        "tscv = TimeSeriesSplit(n_splits=3, test_size=2)\n",
        "for train_index, test_index in tscv.split(X):\n",
        "   print(\"TRAIN:\", train_index, \"TEST:\", test_index)\n",
        "   X_train, X_test = X[train_index], X[test_index]\n",
        "   y_train, y_test = y[train_index], y[test_index]"
      ]
    },
    {
      "cell_type": "code",
      "execution_count": 17,
      "metadata": {},
      "outputs": [
        {
          "name": "stdout",
          "output_type": "stream",
          "text": [
            "El total de datos es 1258\n",
            "Nº datos entrenamiento = 817\n",
            "Nº datos test = 441\n",
            "(817, 1)\n",
            "(441, 1)\n"
          ]
        }
      ],
      "source": [
        "# PREPARACIÓN DE DATOS DE TEST Y TRAIN\n",
        "\n",
        "# Disponemos de aprox 1250 días de información. Queremos dejar el último mes para test.\n",
        "# Fijaremos como datos de entrenamiento el 97.5% del los datos disponibles\n",
        "\n",
        "training_size = int(len(df1)*0.65)\n",
        "test_size = len(df1)-training_size\n",
        "\n",
        "train_data, test_data = df1[0:training_size,:], df1[training_size:len(df1),:1]\n",
        "\n",
        "print(f\"El total de datos es {len(df1)}\")\n",
        "print(f\"Nº datos entrenamiento = {training_size}\")\n",
        "print(f\"Nº datos test = {test_size}\")\n",
        "print(np.shape(train_data))\n",
        "print(np.shape(test_data))"
      ]
    },
    {
      "cell_type": "code",
      "execution_count": 8,
      "metadata": {
        "id": "03vnH9CK1y9g"
      },
      "outputs": [],
      "source": [
        "# convert an array of values into a dataset matrix\n",
        "def create_dataset(dataset, time_step):\n",
        "\tdataX, dataY = [], []\n",
        "\tfor i in range(len(dataset)-time_step-1):\n",
        "\t\ta = dataset[i:(i+time_step), 0]   ###i=0, 0,1,2,3-----99   100 \n",
        "\t\tdataX.append(a)\n",
        "\t\tdataY.append(dataset[i + time_step, 0])\n",
        "\treturn np.array(dataX), np.array(dataY)"
      ]
    },
    {
      "cell_type": "code",
      "execution_count": 12,
      "metadata": {},
      "outputs": [],
      "source": [
        "# fix random seed for reproducibility\n",
        "np.random.seed(7)"
      ]
    },
    {
      "cell_type": "code",
      "execution_count": 13,
      "metadata": {
        "id": "2bbXa0ny1y9g"
      },
      "outputs": [],
      "source": [
        "# reshape into X=t,t+1,t+2,t+3 and Y=t+4\n",
        "look_back = 100\n",
        "X_train, y_train = create_dataset(train_data, look_back)\n",
        "X_test, ytest = create_dataset(test_data, look_back)"
      ]
    },
    {
      "cell_type": "code",
      "execution_count": 14,
      "metadata": {
        "id": "nnJ2AvOV1y9g"
      },
      "outputs": [
        {
          "name": "stdout",
          "output_type": "stream",
          "text": [
            "(716, 100)\n",
            "(716,)\n"
          ]
        },
        {
          "data": {
            "text/plain": [
              "(None, None)"
            ]
          },
          "execution_count": 14,
          "metadata": {},
          "output_type": "execute_result"
        }
      ],
      "source": [
        "print(X_train.shape), print(y_train.shape)\n",
        "\n"
      ]
    },
    {
      "cell_type": "code",
      "execution_count": 43,
      "metadata": {
        "id": "ZnRHZuiB1y9h"
      },
      "outputs": [
        {
          "name": "stdout",
          "output_type": "stream",
          "text": [
            "(340, 100)\n",
            "(340,)\n"
          ]
        },
        {
          "data": {
            "text/plain": [
              "(None, None)"
            ]
          },
          "execution_count": 43,
          "metadata": {},
          "output_type": "execute_result"
        }
      ],
      "source": [
        "print(X_test.shape), print(ytest.shape)"
      ]
    },
    {
      "cell_type": "code",
      "execution_count": 26,
      "metadata": {
        "id": "buBz82vT1y9h"
      },
      "outputs": [],
      "source": [
        "# reshape input to be [samples, time steps, features] which is required for LSTM\n",
        "X_train =X_train.reshape(X_train.shape[0],X_train.shape[1] , 1)\n",
        "X_test = X_test.reshape(X_test.shape[0],X_test.shape[1] , 1)"
      ]
    },
    {
      "cell_type": "code",
      "execution_count": 27,
      "metadata": {
        "id": "Q0VlU-1p1y9i"
      },
      "outputs": [],
      "source": [
        "### Create the Stacked LSTM model\n",
        "\n",
        "model=Sequential()\n",
        "model.add(LSTM(50,return_sequences=True,input_shape=(time_step,1)))\n",
        "model.add(LSTM(50,return_sequences=True))\n",
        "model.add(LSTM(50))\n",
        "model.add(Dense(1))\n",
        "model.compile(loss='mean_squared_error',optimizer='adam')"
      ]
    },
    {
      "cell_type": "code",
      "execution_count": 28,
      "metadata": {
        "id": "ZMNAfU0o1y9i"
      },
      "outputs": [
        {
          "name": "stdout",
          "output_type": "stream",
          "text": [
            "Model: \"sequential\"\n",
            "_________________________________________________________________\n",
            "Layer (type)                 Output Shape              Param #   \n",
            "=================================================================\n",
            "lstm (LSTM)                  (None, 100, 50)           10400     \n",
            "_________________________________________________________________\n",
            "lstm_1 (LSTM)                (None, 100, 50)           20200     \n",
            "_________________________________________________________________\n",
            "lstm_2 (LSTM)                (None, 50)                20200     \n",
            "_________________________________________________________________\n",
            "dense (Dense)                (None, 1)                 51        \n",
            "=================================================================\n",
            "Total params: 50,851\n",
            "Trainable params: 50,851\n",
            "Non-trainable params: 0\n",
            "_________________________________________________________________\n"
          ]
        }
      ],
      "source": [
        "model.summary()"
      ]
    },
    {
      "cell_type": "code",
      "execution_count": 30,
      "metadata": {
        "id": "oU8_ePYB1y9j"
      },
      "outputs": [
        {
          "name": "stdout",
          "output_type": "stream",
          "text": [
            "Epoch 1/10\n",
            "12/12 [==============================] - 3s 242ms/step - loss: 0.0091 - val_loss: 0.1100\n",
            "Epoch 2/10\n",
            "12/12 [==============================] - 2s 147ms/step - loss: 0.0047 - val_loss: 0.0363\n",
            "Epoch 3/10\n",
            "12/12 [==============================] - 2s 143ms/step - loss: 0.0024 - val_loss: 0.0042\n",
            "Epoch 4/10\n",
            "12/12 [==============================] - 2s 148ms/step - loss: 0.0014 - val_loss: 0.0038\n",
            "Epoch 5/10\n",
            "12/12 [==============================] - 2s 148ms/step - loss: 0.0011 - val_loss: 0.0065\n",
            "Epoch 6/10\n",
            "12/12 [==============================] - 2s 144ms/step - loss: 0.0011 - val_loss: 0.0035\n",
            "Epoch 7/10\n",
            "12/12 [==============================] - 2s 144ms/step - loss: 0.0011 - val_loss: 0.0041\n",
            "Epoch 8/10\n",
            "12/12 [==============================] - 2s 144ms/step - loss: 0.0010 - val_loss: 0.0038\n",
            "Epoch 9/10\n",
            "12/12 [==============================] - 2s 145ms/step - loss: 9.6802e-04 - val_loss: 0.0122\n",
            "Epoch 10/10\n",
            "12/12 [==============================] - 2s 145ms/step - loss: 9.8432e-04 - val_loss: 0.0075\n"
          ]
        },
        {
          "data": {
            "text/plain": [
              "<tensorflow.python.keras.callbacks.History at 0x20289b25b20>"
            ]
          },
          "execution_count": 30,
          "metadata": {},
          "output_type": "execute_result"
        }
      ],
      "source": [
        "model.fit(X_train,y_train,validation_data=(X_test,ytest),epochs=10,batch_size=64,verbose=1)"
      ]
    },
    {
      "cell_type": "markdown",
      "metadata": {},
      "source": [
        "# REFERENCIA DE RENDIMIENTO\n",
        "# Con tensorflow funcionando unicamente sobre CPU en entrenar 100 EPOCHS (con bateria) ha tardado 2m 43s\n",
        "\n",
        "# Tarea: instalar en el entorno de anaconda soporte para GPU y probar mejora de rendimiento"
      ]
    },
    {
      "cell_type": "code",
      "execution_count": 31,
      "metadata": {
        "id": "3vy5rJ4I1y9k"
      },
      "outputs": [],
      "source": [
        "# Lets Do the prediction and check performance metrics\n",
        "train_predict=model.predict(X_train)\n",
        "test_predict=model.predict(X_test)"
      ]
    },
    {
      "cell_type": "code",
      "execution_count": 32,
      "metadata": {
        "id": "jCuO-YWw1y9k"
      },
      "outputs": [],
      "source": [
        "# Transformback to original form\n",
        "train_predict=scaler.inverse_transform(train_predict)\n",
        "test_predict=scaler.inverse_transform(test_predict)"
      ]
    },
    {
      "cell_type": "code",
      "execution_count": 33,
      "metadata": {
        "id": "xrVbeOJE1y9l"
      },
      "outputs": [
        {
          "data": {
            "text/plain": [
              "1746.718691851613"
            ]
          },
          "execution_count": 33,
          "metadata": {},
          "output_type": "execute_result"
        }
      ],
      "source": [
        "# Calculate RMSE performance metrics\n",
        "import math\n",
        "from sklearn.metrics import mean_squared_error\n",
        "math.sqrt(mean_squared_error(y_train,train_predict))"
      ]
    },
    {
      "cell_type": "code",
      "execution_count": 34,
      "metadata": {
        "id": "0NfuB2sq1y9m"
      },
      "outputs": [
        {
          "data": {
            "text/plain": [
              "3481.37734072414"
            ]
          },
          "execution_count": 34,
          "metadata": {},
          "output_type": "execute_result"
        }
      ],
      "source": [
        "# Test Data RMSE\n",
        "math.sqrt(mean_squared_error(ytest,test_predict))"
      ]
    },
    {
      "cell_type": "code",
      "execution_count": 35,
      "metadata": {
        "id": "hge8QfhqM49q"
      },
      "outputs": [
        {
          "data": {
            "text/plain": [
              "array([[3379.81],\n",
              "       [3386.3 ],\n",
              "       [3326.02],\n",
              "       [3259.95],\n",
              "       [3271.2 ]])"
            ]
          },
          "execution_count": 35,
          "metadata": {},
          "output_type": "execute_result"
        }
      ],
      "source": [
        "ytestreversed = scaler.inverse_transform(ytest.reshape(-1,1))\n",
        "ytestreversed[-5:]\n",
        "\n"
      ]
    },
    {
      "cell_type": "code",
      "execution_count": 36,
      "metadata": {
        "id": "jA3PBqYmM_pu"
      },
      "outputs": [
        {
          "data": {
            "text/plain": [
              "array([[3169.428 ],\n",
              "       [3202.847 ],\n",
              "       [3238.529 ],\n",
              "       [3274.6824],\n",
              "       [3309.1555]], dtype=float32)"
            ]
          },
          "execution_count": 36,
          "metadata": {},
          "output_type": "execute_result"
        }
      ],
      "source": [
        "\n",
        "test_predict[-5:]"
      ]
    },
    {
      "cell_type": "code",
      "execution_count": 37,
      "metadata": {
        "id": "CkSdUsC21y9m"
      },
      "outputs": [
        {
          "data": {
            "image/png": "[encoded data removed]",
            "text/plain": [
              "<Figure size 432x288 with 1 Axes>"
            ]
          },
          "metadata": {
            "needs_background": "light"
          },
          "output_type": "display_data"
        }
      ],
      "source": [
        "### Plotting \n",
        "# shift train predictions for plotting\n",
        "look_back=100\n",
        "trainPredictPlot = np.empty_like(df1)\n",
        "trainPredictPlot[:, :] = np.nan\n",
        "trainPredictPlot[look_back:len(train_predict)+look_back, :] = train_predict\n",
        "# shift test predictions for plotting\n",
        "testPredictPlot = np.empty_like(df1)\n",
        "testPredictPlot[:, :] = np.nan\n",
        "testPredictPlot[len(train_predict)+(look_back*2)+1:len(df1)-1, :] = test_predict\n",
        "# plot baseline and predictions\n",
        "plt.plot(scaler.inverse_transform(df1))\n",
        "plt.plot(trainPredictPlot)\n",
        "plt.plot(testPredictPlot)\n",
        "plt.legend(['Original data', 'Prediction train output', 'Predicted test output' ])\n",
        "plt.xlabel('Days')\n",
        "plt.ylabel('Price')\n",
        "plt.show()"
      ]
    },
    {
      "cell_type": "code",
      "execution_count": 38,
      "metadata": {
        "id": "MspELkI31gnx"
      },
      "outputs": [
        {
          "data": {
            "image/png": "[encoded data removed]",
            "text/plain": [
              "<Figure size 432x288 with 1 Axes>"
            ]
          },
          "metadata": {
            "needs_background": "light"
          },
          "output_type": "display_data"
        }
      ],
      "source": [
        "plt.plot(testPredictPlot)\n",
        "plt.xlabel('Days')\n",
        "plt.ylabel('Price')\n",
        "plt.show()"
      ]
    }
  ],
  "metadata": {
    "colab": {
      "collapsed_sections": [],
      "name": "StockPrediction - 2.0.ipynb",
      "provenance": []
    },
    "kernelspec": {
      "display_name": "Python 3",
      "language": "python",
      "name": "python3"
    },
    "language_info": {
      "codemirror_mode": {
        "name": "ipython",
        "version": 3
      },
      "file_extension": ".py",
      "mimetype": "text/x-python",
      "name": "python",
      "nbconvert_exporter": "python",
      "pygments_lexer": "ipython3",
      "version": "3.9.11"
    }
  },
  "nbformat": 4,
  "nbformat_minor": 0
}
