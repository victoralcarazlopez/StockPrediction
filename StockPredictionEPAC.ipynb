{
  "nbformat": 4,
  "nbformat_minor": 0,
  "metadata": {
    "colab": {
      "name": "StockPredictionEPAC.ipynb",
      "provenance": []
    },
    "kernelspec": {
      "display_name": "Python 3",
      "language": "python",
      "name": "python3"
    },
    "language_info": {
      "codemirror_mode": {
        "name": "ipython",
        "version": 3
      },
      "file_extension": ".py",
      "mimetype": "text/x-python",
      "name": "python",
      "nbconvert_exporter": "python",
      "pygments_lexer": "ipython3",
      "version": "3.6.9"
    }
  },
  "cells": [
    {
      "cell_type": "markdown",
      "metadata": {
        "id": "dr4CKW071y9K"
      },
      "source": [
        "### Stock Market Prediction And Forecasting Using Stacked LSTM"
      ]
    },
    {
      "cell_type": "code",
      "metadata": {
        "id": "mW_D9I8G1y9Q"
      },
      "source": [
        "#Import libraries\n",
        "import pandas_datareader as pdr\n",
        "import pandas as pd\n",
        "import matplotlib.pyplot as plt\n",
        "import numpy as np\n",
        "from sklearn.preprocessing import MinMaxScaler\n",
        "import tensorflow as tf\n",
        "from tensorflow.keras.models import Sequential\n",
        "from tensorflow.keras.layers import Dense\n",
        "from tensorflow.keras.layers import LSTM\n",
        "\n"
      ],
      "execution_count": null,
      "outputs": []
    },
    {
      "cell_type": "code",
      "metadata": {
        "id": "PXqSVBLp1y9T"
      },
      "source": [
        "#Data Collection\n",
        "\n",
        "key = '891291f4c52ecfb595cbcee737aa883611e6479e'\n",
        "df = pdr.get_data_tiingo('MSFT', api_key=key)"
      ],
      "execution_count": null,
      "outputs": []
    },
    {
      "cell_type": "code",
      "metadata": {
        "id": "etyRJSiZ1y9U"
      },
      "source": [
        "#df.to_csv('FB.csv')\n",
        "#df=pd.read_csv('FB.csv')"
      ],
      "execution_count": null,
      "outputs": []
    },
    {
      "cell_type": "code",
      "metadata": {
        "id": "-8ruOka11y9W"
      },
      "source": [
        "#df.head()\n",
        "#df.tail()\n",
        "#df.describe()"
      ],
      "execution_count": null,
      "outputs": []
    },
    {
      "cell_type": "code",
      "metadata": {
        "id": "ODMTNTJi1y9Z"
      },
      "source": [
        "df1=df.reset_index()['close']"
      ],
      "execution_count": null,
      "outputs": []
    },
    {
      "cell_type": "code",
      "metadata": {
        "colab": {
          "base_uri": "https://localhost:8080/",
          "height": 297
        },
        "id": "VOs_U0Ee1y9a",
        "outputId": "0c5ef917-fda0-48d4-eaee-60117fa83cb2"
      },
      "source": [
        "plt.plot(df1)\n",
        "plt.xlabel('Days')\n",
        "plt.ylabel('Price')"
      ],
      "execution_count": null,
      "outputs": [
        {
          "output_type": "execute_result",
          "data": {
            "text/plain": [
              "Text(0, 0.5, 'Price')"
            ]
          },
          "metadata": {},
          "execution_count": 137
        },
        {
          "output_type": "display_data",
          "data": {
            "image/png": "[encoded data removed]",
            "text/plain": [
              "<Figure size 432x288 with 1 Axes>"
            ]
          },
          "metadata": {
            "needs_background": "light"
          }
        }
      ]
    },
    {
      "cell_type": "code",
      "metadata": {
        "colab": {
          "base_uri": "https://localhost:8080/"
        },
        "id": "Hm3vXOBk1y9c",
        "outputId": "5152f282-e86c-4e4e-eea4-5e78d785a5bc"
      },
      "source": [
        "df1"
      ],
      "execution_count": null,
      "outputs": [
        {
          "output_type": "execute_result",
          "data": {
            "text/plain": [
              "0        61.01\n",
              "1        61.97\n",
              "2        62.17\n",
              "3        62.98\n",
              "4        62.68\n",
              "         ...  \n",
              "1252    330.59\n",
              "1253    330.08\n",
              "1254    329.49\n",
              "1255    323.01\n",
              "1256    326.19\n",
              "Name: close, Length: 1257, dtype: float64"
            ]
          },
          "metadata": {},
          "execution_count": 138
        }
      ]
    },
    {
      "cell_type": "code",
      "metadata": {
        "id": "6rRI0w2a1y9c"
      },
      "source": [
        "### LSTM are sensitive to the scale of the data. so we apply MinMax scaler \n",
        "scaler=MinMaxScaler(feature_range=(0,1))\n",
        "df1=scaler.fit_transform(np.array(df1).reshape(-1,1))\n",
        "#print(df1)"
      ],
      "execution_count": null,
      "outputs": []
    },
    {
      "cell_type": "code",
      "metadata": {
        "id": "fn-V3HAE1y9e"
      },
      "source": [
        "##splitting dataset into train and test split\n",
        "training_size=int(len(df1)*0.65)\n",
        "test_size=len(df1)-training_size\n",
        "train_data,test_data=df1[0:training_size,:],df1[training_size:len(df1),:1]\n",
        "#training_size,test_size"
      ],
      "execution_count": null,
      "outputs": []
    },
    {
      "cell_type": "code",
      "metadata": {
        "id": "03vnH9CK1y9g"
      },
      "source": [
        "import numpy\n",
        "# convert an array of values into a dataset matrix\n",
        "def create_dataset(dataset, time_step):\n",
        "\tdataX, dataY = [], []\n",
        "\tfor i in range(len(dataset)-time_step-1):\n",
        "\t\ta = dataset[i:(i+time_step), 0]   ###i=0, 0,1,2,3-----99   100 \n",
        "\t\tdataX.append(a)\n",
        "\t\tdataY.append(dataset[i + time_step, 0])\n",
        "\treturn numpy.array(dataX), numpy.array(dataY)"
      ],
      "execution_count": null,
      "outputs": []
    },
    {
      "cell_type": "code",
      "metadata": {
        "id": "2bbXa0ny1y9g"
      },
      "source": [
        "# reshape into X=t,t+1,t+2,t+3 and Y=t+4\n",
        "time_step = 100\n",
        "X_train, y_train = create_dataset(train_data, time_step)\n",
        "X_test, ytest = create_dataset(test_data, time_step)"
      ],
      "execution_count": null,
      "outputs": []
    },
    {
      "cell_type": "code",
      "metadata": {
        "colab": {
          "base_uri": "https://localhost:8080/"
        },
        "id": "nnJ2AvOV1y9g",
        "outputId": "8e936acd-d718-4ad2-a99f-d3a49619c6d1"
      },
      "source": [
        "print(X_train.shape), print(y_train.shape)"
      ],
      "execution_count": null,
      "outputs": [
        {
          "output_type": "stream",
          "name": "stdout",
          "text": [
            "(716, 100)\n",
            "(716,)\n"
          ]
        },
        {
          "output_type": "execute_result",
          "data": {
            "text/plain": [
              "(None, None)"
            ]
          },
          "metadata": {},
          "execution_count": 143
        }
      ]
    },
    {
      "cell_type": "code",
      "metadata": {
        "colab": {
          "base_uri": "https://localhost:8080/"
        },
        "id": "ZnRHZuiB1y9h",
        "outputId": "2165bab1-9dcd-4b88-f6f9-28e8fdb76b2e"
      },
      "source": [
        "print(X_test.shape), print(ytest.shape)"
      ],
      "execution_count": null,
      "outputs": [
        {
          "output_type": "stream",
          "name": "stdout",
          "text": [
            "(339, 100)\n",
            "(339,)\n"
          ]
        },
        {
          "output_type": "execute_result",
          "data": {
            "text/plain": [
              "(None, None)"
            ]
          },
          "metadata": {},
          "execution_count": 144
        }
      ]
    },
    {
      "cell_type": "code",
      "metadata": {
        "id": "buBz82vT1y9h"
      },
      "source": [
        "# reshape input to be [samples, time steps, features] which is required for LSTM\n",
        "X_train =X_train.reshape(X_train.shape[0],X_train.shape[1] , 1)\n",
        "X_test = X_test.reshape(X_test.shape[0],X_test.shape[1] , 1)"
      ],
      "execution_count": null,
      "outputs": []
    },
    {
      "cell_type": "code",
      "metadata": {
        "id": "oNjIHKMF1y9i"
      },
      "source": [
        "### Create the Stacked LSTM model\n"
      ],
      "execution_count": null,
      "outputs": []
    },
    {
      "cell_type": "code",
      "metadata": {
        "id": "Q0VlU-1p1y9i"
      },
      "source": [
        "model=Sequential()\n",
        "model.add(LSTM(50,return_sequences=True,input_shape=(time_step,1)))\n",
        "model.add(LSTM(50,return_sequences=True))\n",
        "model.add(LSTM(50))\n",
        "model.add(Dense(1))\n",
        "model.compile(loss='mean_squared_error',optimizer='adam')"
      ],
      "execution_count": null,
      "outputs": []
    },
    {
      "cell_type": "code",
      "metadata": {
        "colab": {
          "base_uri": "https://localhost:8080/"
        },
        "id": "ZMNAfU0o1y9i",
        "outputId": "c459a3ab-76d5-41cb-8940-0c07df4c6b46"
      },
      "source": [
        "model.summary()"
      ],
      "execution_count": null,
      "outputs": [
        {
          "output_type": "stream",
          "name": "stdout",
          "text": [
            "Model: \"sequential_3\"\n",
            "_________________________________________________________________\n",
            " Layer (type)                Output Shape              Param #   \n",
            "=================================================================\n",
            " lstm_9 (LSTM)               (None, 100, 50)           10400     \n",
            "                                                                 \n",
            " lstm_10 (LSTM)              (None, 100, 50)           20200     \n",
            "                                                                 \n",
            " lstm_11 (LSTM)              (None, 50)                20200     \n",
            "                                                                 \n",
            " dense_3 (Dense)             (None, 1)                 51        \n",
            "                                                                 \n",
            "=================================================================\n",
            "Total params: 50,851\n",
            "Trainable params: 50,851\n",
            "Non-trainable params: 0\n",
            "_________________________________________________________________\n"
          ]
        }
      ]
    },
    {
      "cell_type": "code",
      "metadata": {
        "colab": {
          "base_uri": "https://localhost:8080/"
        },
        "id": "oU8_ePYB1y9j",
        "outputId": "9954eb9f-b916-4f37-c137-d8293bb33c17"
      },
      "source": [
        "model.fit(X_train,y_train,validation_data=(X_test,ytest),epochs=100,batch_size=64,verbose=1)"
      ],
      "execution_count": null,
      "outputs": [
        {
          "output_type": "stream",
          "name": "stdout",
          "text": [
            "Epoch 1/100\n",
            "12/12 [==============================] - 9s 318ms/step - loss: 0.0118 - val_loss: 0.0976\n",
            "Epoch 2/100\n",
            "12/12 [==============================] - 2s 202ms/step - loss: 0.0028 - val_loss: 0.0024\n",
            "Epoch 3/100\n",
            "12/12 [==============================] - 2s 201ms/step - loss: 6.0177e-04 - val_loss: 0.0129\n",
            "Epoch 4/100\n",
            "12/12 [==============================] - 2s 202ms/step - loss: 3.7159e-04 - val_loss: 0.0013\n",
            "Epoch 5/100\n",
            "12/12 [==============================] - 2s 202ms/step - loss: 2.2642e-04 - val_loss: 0.0032\n",
            "Epoch 6/100\n",
            "12/12 [==============================] - 2s 200ms/step - loss: 2.1972e-04 - val_loss: 0.0017\n",
            "Epoch 7/100\n",
            "12/12 [==============================] - 2s 201ms/step - loss: 2.0129e-04 - val_loss: 0.0014\n",
            "Epoch 8/100\n",
            "12/12 [==============================] - 2s 203ms/step - loss: 1.9975e-04 - val_loss: 0.0016\n",
            "Epoch 9/100\n",
            "12/12 [==============================] - 2s 202ms/step - loss: 2.0458e-04 - val_loss: 0.0017\n",
            "Epoch 10/100\n",
            "12/12 [==============================] - 2s 202ms/step - loss: 2.0349e-04 - val_loss: 0.0020\n",
            "Epoch 11/100\n",
            "12/12 [==============================] - 2s 205ms/step - loss: 2.0567e-04 - val_loss: 0.0023\n",
            "Epoch 12/100\n",
            "12/12 [==============================] - 2s 203ms/step - loss: 1.9536e-04 - val_loss: 0.0023\n",
            "Epoch 13/100\n",
            "12/12 [==============================] - 2s 202ms/step - loss: 1.9509e-04 - val_loss: 0.0022\n",
            "Epoch 14/100\n",
            "12/12 [==============================] - 2s 205ms/step - loss: 1.9452e-04 - val_loss: 0.0027\n",
            "Epoch 15/100\n",
            "12/12 [==============================] - 2s 201ms/step - loss: 2.0713e-04 - val_loss: 0.0039\n",
            "Epoch 16/100\n",
            "12/12 [==============================] - 2s 202ms/step - loss: 1.9960e-04 - val_loss: 0.0046\n",
            "Epoch 17/100\n",
            "12/12 [==============================] - 2s 205ms/step - loss: 2.2988e-04 - val_loss: 0.0048\n",
            "Epoch 18/100\n",
            "12/12 [==============================] - 2s 206ms/step - loss: 2.2120e-04 - val_loss: 0.0031\n",
            "Epoch 19/100\n",
            "12/12 [==============================] - 2s 201ms/step - loss: 2.0451e-04 - val_loss: 0.0028\n",
            "Epoch 20/100\n",
            "12/12 [==============================] - 2s 201ms/step - loss: 2.0838e-04 - val_loss: 0.0019\n",
            "Epoch 21/100\n",
            "12/12 [==============================] - 2s 202ms/step - loss: 2.2589e-04 - val_loss: 0.0025\n",
            "Epoch 22/100\n",
            "12/12 [==============================] - 2s 211ms/step - loss: 2.0552e-04 - val_loss: 0.0030\n",
            "Epoch 23/100\n",
            "12/12 [==============================] - 2s 203ms/step - loss: 1.8802e-04 - val_loss: 0.0039\n",
            "Epoch 24/100\n",
            "12/12 [==============================] - 2s 204ms/step - loss: 2.1260e-04 - val_loss: 0.0040\n",
            "Epoch 25/100\n",
            "12/12 [==============================] - 2s 206ms/step - loss: 2.0342e-04 - val_loss: 0.0017\n",
            "Epoch 26/100\n",
            "12/12 [==============================] - 2s 204ms/step - loss: 2.2218e-04 - val_loss: 0.0025\n",
            "Epoch 27/100\n",
            "12/12 [==============================] - 2s 202ms/step - loss: 1.8435e-04 - val_loss: 0.0043\n",
            "Epoch 28/100\n",
            "12/12 [==============================] - 2s 203ms/step - loss: 2.0531e-04 - val_loss: 0.0043\n",
            "Epoch 29/100\n",
            "12/12 [==============================] - 2s 201ms/step - loss: 1.9913e-04 - val_loss: 0.0028\n",
            "Epoch 30/100\n",
            "12/12 [==============================] - 2s 202ms/step - loss: 1.8833e-04 - val_loss: 0.0027\n",
            "Epoch 31/100\n",
            "12/12 [==============================] - 2s 202ms/step - loss: 1.9317e-04 - val_loss: 0.0023\n",
            "Epoch 32/100\n",
            "12/12 [==============================] - 2s 201ms/step - loss: 1.9580e-04 - val_loss: 0.0016\n",
            "Epoch 33/100\n",
            "12/12 [==============================] - 2s 202ms/step - loss: 2.6059e-04 - val_loss: 0.0051\n",
            "Epoch 34/100\n",
            "12/12 [==============================] - 2s 204ms/step - loss: 2.5287e-04 - val_loss: 0.0025\n",
            "Epoch 35/100\n",
            "12/12 [==============================] - 2s 202ms/step - loss: 2.0336e-04 - val_loss: 0.0035\n",
            "Epoch 36/100\n",
            "12/12 [==============================] - 2s 202ms/step - loss: 1.9443e-04 - val_loss: 0.0028\n",
            "Epoch 37/100\n",
            "12/12 [==============================] - 2s 203ms/step - loss: 2.0441e-04 - val_loss: 0.0017\n",
            "Epoch 38/100\n",
            "12/12 [==============================] - 2s 203ms/step - loss: 2.1137e-04 - val_loss: 0.0033\n",
            "Epoch 39/100\n",
            "12/12 [==============================] - 2s 205ms/step - loss: 1.8636e-04 - val_loss: 0.0034\n",
            "Epoch 40/100\n",
            "12/12 [==============================] - 2s 203ms/step - loss: 1.8118e-04 - val_loss: 0.0027\n",
            "Epoch 41/100\n",
            "12/12 [==============================] - 2s 204ms/step - loss: 1.8936e-04 - val_loss: 0.0041\n",
            "Epoch 42/100\n",
            "12/12 [==============================] - 2s 202ms/step - loss: 1.7457e-04 - val_loss: 0.0021\n",
            "Epoch 43/100\n",
            "12/12 [==============================] - 2s 204ms/step - loss: 1.8375e-04 - val_loss: 0.0053\n",
            "Epoch 44/100\n",
            "12/12 [==============================] - 2s 203ms/step - loss: 1.9182e-04 - val_loss: 0.0028\n",
            "Epoch 45/100\n",
            "12/12 [==============================] - 2s 200ms/step - loss: 1.8778e-04 - val_loss: 0.0032\n",
            "Epoch 46/100\n",
            "12/12 [==============================] - 2s 201ms/step - loss: 1.6553e-04 - val_loss: 0.0032\n",
            "Epoch 47/100\n",
            "12/12 [==============================] - 2s 204ms/step - loss: 1.7320e-04 - val_loss: 0.0036\n",
            "Epoch 48/100\n",
            "12/12 [==============================] - 2s 203ms/step - loss: 1.8143e-04 - val_loss: 0.0025\n",
            "Epoch 49/100\n",
            "12/12 [==============================] - 2s 202ms/step - loss: 1.8980e-04 - val_loss: 0.0023\n",
            "Epoch 50/100\n",
            "12/12 [==============================] - 2s 205ms/step - loss: 1.9324e-04 - val_loss: 0.0040\n",
            "Epoch 51/100\n",
            "12/12 [==============================] - 2s 205ms/step - loss: 1.6729e-04 - val_loss: 0.0031\n",
            "Epoch 52/100\n",
            "12/12 [==============================] - 2s 203ms/step - loss: 1.5686e-04 - val_loss: 0.0031\n",
            "Epoch 53/100\n",
            "12/12 [==============================] - 2s 208ms/step - loss: 1.6316e-04 - val_loss: 0.0020\n",
            "Epoch 54/100\n",
            "12/12 [==============================] - 2s 204ms/step - loss: 2.2307e-04 - val_loss: 0.0056\n",
            "Epoch 55/100\n",
            "12/12 [==============================] - 2s 204ms/step - loss: 1.7072e-04 - val_loss: 0.0026\n",
            "Epoch 56/100\n",
            "12/12 [==============================] - 2s 205ms/step - loss: 1.5269e-04 - val_loss: 0.0035\n",
            "Epoch 57/100\n",
            "12/12 [==============================] - 2s 204ms/step - loss: 1.5119e-04 - val_loss: 0.0013\n",
            "Epoch 58/100\n",
            "12/12 [==============================] - 2s 205ms/step - loss: 2.0601e-04 - val_loss: 0.0048\n",
            "Epoch 59/100\n",
            "12/12 [==============================] - 2s 207ms/step - loss: 1.8011e-04 - val_loss: 0.0015\n",
            "Epoch 60/100\n",
            "12/12 [==============================] - 2s 207ms/step - loss: 1.7519e-04 - val_loss: 0.0016\n",
            "Epoch 61/100\n",
            "12/12 [==============================] - 2s 206ms/step - loss: 1.8644e-04 - val_loss: 0.0028\n",
            "Epoch 62/100\n",
            "12/12 [==============================] - 2s 205ms/step - loss: 1.6429e-04 - val_loss: 0.0021\n",
            "Epoch 63/100\n",
            "12/12 [==============================] - 2s 204ms/step - loss: 1.7827e-04 - val_loss: 0.0034\n",
            "Epoch 64/100\n",
            "12/12 [==============================] - 2s 205ms/step - loss: 1.4109e-04 - val_loss: 0.0024\n",
            "Epoch 65/100\n",
            "12/12 [==============================] - 2s 206ms/step - loss: 1.5533e-04 - val_loss: 0.0037\n",
            "Epoch 66/100\n",
            "12/12 [==============================] - 2s 201ms/step - loss: 1.6033e-04 - val_loss: 0.0021\n",
            "Epoch 67/100\n",
            "12/12 [==============================] - 2s 206ms/step - loss: 1.9522e-04 - val_loss: 0.0048\n",
            "Epoch 68/100\n",
            "12/12 [==============================] - 2s 205ms/step - loss: 1.9003e-04 - val_loss: 0.0017\n",
            "Epoch 69/100\n",
            "12/12 [==============================] - 2s 202ms/step - loss: 1.5680e-04 - val_loss: 0.0025\n",
            "Epoch 70/100\n",
            "12/12 [==============================] - 2s 205ms/step - loss: 1.3380e-04 - val_loss: 0.0053\n",
            "Epoch 71/100\n",
            "12/12 [==============================] - 2s 202ms/step - loss: 1.7546e-04 - val_loss: 0.0034\n",
            "Epoch 72/100\n",
            "12/12 [==============================] - 2s 204ms/step - loss: 1.2545e-04 - val_loss: 0.0047\n",
            "Epoch 73/100\n",
            "12/12 [==============================] - 2s 205ms/step - loss: 1.2840e-04 - val_loss: 0.0034\n",
            "Epoch 74/100\n",
            "12/12 [==============================] - 2s 206ms/step - loss: 1.2728e-04 - val_loss: 0.0039\n",
            "Epoch 75/100\n",
            "12/12 [==============================] - 2s 205ms/step - loss: 1.2664e-04 - val_loss: 0.0040\n",
            "Epoch 76/100\n",
            "12/12 [==============================] - 2s 202ms/step - loss: 1.1846e-04 - val_loss: 0.0048\n",
            "Epoch 77/100\n",
            "12/12 [==============================] - 2s 203ms/step - loss: 1.3336e-04 - val_loss: 0.0034\n",
            "Epoch 78/100\n",
            "12/12 [==============================] - 2s 207ms/step - loss: 1.4980e-04 - val_loss: 0.0081\n",
            "Epoch 79/100\n",
            "12/12 [==============================] - 2s 202ms/step - loss: 1.4779e-04 - val_loss: 0.0026\n",
            "Epoch 80/100\n",
            "12/12 [==============================] - 2s 204ms/step - loss: 1.5649e-04 - val_loss: 0.0086\n",
            "Epoch 81/100\n",
            "12/12 [==============================] - 2s 201ms/step - loss: 1.3519e-04 - val_loss: 0.0048\n",
            "Epoch 82/100\n",
            "12/12 [==============================] - 2s 205ms/step - loss: 1.1390e-04 - val_loss: 0.0061\n",
            "Epoch 83/100\n",
            "12/12 [==============================] - 2s 204ms/step - loss: 1.1334e-04 - val_loss: 0.0055\n",
            "Epoch 84/100\n",
            "12/12 [==============================] - 2s 204ms/step - loss: 1.1918e-04 - val_loss: 0.0057\n",
            "Epoch 85/100\n",
            "12/12 [==============================] - 2s 205ms/step - loss: 1.0950e-04 - val_loss: 0.0085\n",
            "Epoch 86/100\n",
            "12/12 [==============================] - 2s 205ms/step - loss: 1.1220e-04 - val_loss: 0.0066\n",
            "Epoch 87/100\n",
            "12/12 [==============================] - 2s 207ms/step - loss: 1.5510e-04 - val_loss: 0.0106\n",
            "Epoch 88/100\n",
            "12/12 [==============================] - 2s 206ms/step - loss: 1.4010e-04 - val_loss: 0.0078\n",
            "Epoch 89/100\n",
            "12/12 [==============================] - 2s 201ms/step - loss: 1.4026e-04 - val_loss: 0.0120\n",
            "Epoch 90/100\n",
            "12/12 [==============================] - 2s 203ms/step - loss: 1.3169e-04 - val_loss: 0.0069\n",
            "Epoch 91/100\n",
            "12/12 [==============================] - 2s 203ms/step - loss: 1.0911e-04 - val_loss: 0.0082\n",
            "Epoch 92/100\n",
            "12/12 [==============================] - 2s 204ms/step - loss: 1.0149e-04 - val_loss: 0.0064\n",
            "Epoch 93/100\n",
            "12/12 [==============================] - 2s 204ms/step - loss: 1.0529e-04 - val_loss: 0.0090\n",
            "Epoch 94/100\n",
            "12/12 [==============================] - 2s 205ms/step - loss: 9.6560e-05 - val_loss: 0.0078\n",
            "Epoch 95/100\n",
            "12/12 [==============================] - 2s 203ms/step - loss: 9.6810e-05 - val_loss: 0.0105\n",
            "Epoch 96/100\n",
            "12/12 [==============================] - 2s 203ms/step - loss: 9.9885e-05 - val_loss: 0.0085\n",
            "Epoch 97/100\n",
            "12/12 [==============================] - 2s 201ms/step - loss: 9.9352e-05 - val_loss: 0.0071\n",
            "Epoch 98/100\n",
            "12/12 [==============================] - 2s 203ms/step - loss: 9.9542e-05 - val_loss: 0.0055\n",
            "Epoch 99/100\n",
            "12/12 [==============================] - 2s 205ms/step - loss: 1.0525e-04 - val_loss: 0.0076\n",
            "Epoch 100/100\n",
            "12/12 [==============================] - 2s 204ms/step - loss: 1.1441e-04 - val_loss: 0.0053\n"
          ]
        },
        {
          "output_type": "execute_result",
          "data": {
            "text/plain": [
              "<keras.callbacks.History at 0x7f392217b650>"
            ]
          },
          "metadata": {},
          "execution_count": 149
        }
      ]
    },
    {
      "cell_type": "code",
      "metadata": {
        "id": "3vy5rJ4I1y9k"
      },
      "source": [
        "#tf.__version__\n",
        "# Lets Do the prediction and check performance metrics\n",
        "train_predict=model.predict(X_train)\n",
        "test_predict=model.predict(X_test)"
      ],
      "execution_count": null,
      "outputs": []
    },
    {
      "cell_type": "code",
      "metadata": {
        "id": "jCuO-YWw1y9k"
      },
      "source": [
        "# Transformback to original form\n",
        "train_predict=scaler.inverse_transform(train_predict)\n",
        "test_predict=scaler.inverse_transform(test_predict)"
      ],
      "execution_count": null,
      "outputs": []
    },
    {
      "cell_type": "code",
      "metadata": {
        "colab": {
          "base_uri": "https://localhost:8080/"
        },
        "id": "xrVbeOJE1y9l",
        "outputId": "e1a2b39d-0711-4168-f9cb-153ba2552863"
      },
      "source": [
        "# Calculate RMSE performance metrics\n",
        "import math\n",
        "from sklearn.metrics import mean_squared_error\n",
        "math.sqrt(mean_squared_error(y_train,train_predict))"
      ],
      "execution_count": null,
      "outputs": [
        {
          "output_type": "execute_result",
          "data": {
            "text/plain": [
              "115.42816234776892"
            ]
          },
          "metadata": {},
          "execution_count": 152
        }
      ]
    },
    {
      "cell_type": "code",
      "metadata": {
        "colab": {
          "base_uri": "https://localhost:8080/"
        },
        "id": "0NfuB2sq1y9m",
        "outputId": "34b8ae1c-478e-4dae-c9dc-78fc72dae2f4"
      },
      "source": [
        "# Test Data RMSE\n",
        "math.sqrt(mean_squared_error(ytest,test_predict))"
      ],
      "execution_count": null,
      "outputs": [
        {
          "output_type": "execute_result",
          "data": {
            "text/plain": [
              "241.49695944906838"
            ]
          },
          "metadata": {},
          "execution_count": 153
        }
      ]
    },
    {
      "cell_type": "code",
      "metadata": {
        "colab": {
          "base_uri": "https://localhost:8080/"
        },
        "id": "hge8QfhqM49q",
        "outputId": "a1174233-d612-4df7-d95e-a2323032bb92"
      },
      "source": [
        "ytestreversed = scaler.inverse_transform(ytest.reshape(-1,1))\n",
        "ytestreversed[-5:]\n",
        "\n"
      ],
      "execution_count": null,
      "outputs": [
        {
          "output_type": "execute_result",
          "data": {
            "text/plain": [
              "array([[336.63],\n",
              "       [330.59],\n",
              "       [330.08],\n",
              "       [329.49],\n",
              "       [323.01]])"
            ]
          },
          "metadata": {},
          "execution_count": 154
        }
      ]
    },
    {
      "cell_type": "code",
      "metadata": {
        "colab": {
          "base_uri": "https://localhost:8080/"
        },
        "id": "jA3PBqYmM_pu",
        "outputId": "babbd9aa-a60b-4749-8450-bfe8279ce915"
      },
      "source": [
        "\n",
        "test_predict[-5:]"
      ],
      "execution_count": null,
      "outputs": [
        {
          "output_type": "execute_result",
          "data": {
            "text/plain": [
              "array([[284.80215],\n",
              "       [283.69104],\n",
              "       [282.05896],\n",
              "       [280.21707],\n",
              "       [278.48685]], dtype=float32)"
            ]
          },
          "metadata": {},
          "execution_count": 155
        }
      ]
    },
    {
      "cell_type": "code",
      "metadata": {
        "colab": {
          "base_uri": "https://localhost:8080/",
          "height": 279
        },
        "id": "CkSdUsC21y9m",
        "outputId": "c0d0f22f-d54a-495a-9140-9ce16604e17a"
      },
      "source": [
        "### Plotting \n",
        "# shift train predictions for plotting\n",
        "look_back=100\n",
        "trainPredictPlot = numpy.empty_like(df1)\n",
        "trainPredictPlot[:, :] = np.nan\n",
        "trainPredictPlot[look_back:len(train_predict)+look_back, :] = train_predict\n",
        "# shift test predictions for plotting\n",
        "testPredictPlot = numpy.empty_like(df1)\n",
        "testPredictPlot[:, :] = numpy.nan\n",
        "testPredictPlot[len(train_predict)+(look_back*2)+1:len(df1)-1, :] = test_predict\n",
        "# plot baseline and predictions\n",
        "plt.plot(scaler.inverse_transform(df1))\n",
        "plt.plot(trainPredictPlot)\n",
        "plt.plot(testPredictPlot)\n",
        "plt.legend(['Original data', 'Prediction train output', 'Predicted test output' ])\n",
        "plt.xlabel('Days')\n",
        "plt.ylabel('Price')\n",
        "plt.show()"
      ],
      "execution_count": null,
      "outputs": [
        {
          "output_type": "display_data",
          "data": {
            "image/png": "[encoded data removed]",
            "text/plain": [
              "<Figure size 432x288 with 1 Axes>"
            ]
          },
          "metadata": {
            "needs_background": "light"
          }
        }
      ]
    },
    {
      "cell_type": "code",
      "metadata": {
        "colab": {
          "base_uri": "https://localhost:8080/",
          "height": 283
        },
        "id": "MspELkI31gnx",
        "outputId": "93f79b5e-8332-4f8f-9a78-0494697f8120"
      },
      "source": [
        "plt.plot(testPredictPlot)\n",
        "plt.xlabel('Days')\n",
        "plt.ylabel('Price')\n",
        "plt.show()"
      ],
      "execution_count": null,
      "outputs": [
        {
          "output_type": "display_data",
          "data": {
            "image/png": "[encoded data removed]",
            "text/plain": [
              "<Figure size 432x288 with 1 Axes>"
            ]
          },
          "metadata": {
            "needs_background": "light"
          }
        }
      ]
    },
    {
      "cell_type": "code",
      "metadata": {
        "colab": {
          "base_uri": "https://localhost:8080/"
        },
        "id": "QTZwaxuc8jyG",
        "outputId": "684ff7ff-a4cf-47d8-fc69-3524f043204e"
      },
      "source": [
        "len(test_predict)"
      ],
      "execution_count": null,
      "outputs": [
        {
          "output_type": "execute_result",
          "data": {
            "text/plain": [
              "339"
            ]
          },
          "metadata": {},
          "execution_count": 158
        }
      ]
    },
    {
      "cell_type": "code",
      "metadata": {
        "colab": {
          "base_uri": "https://localhost:8080/"
        },
        "id": "RPEdxd1p1y9n",
        "outputId": "6c25edf5-3321-48bd-c0f4-f1b2ffe80216"
      },
      "source": [
        "len(test_data) #test_data es la y de los datos de test"
      ],
      "execution_count": null,
      "outputs": [
        {
          "output_type": "execute_result",
          "data": {
            "text/plain": [
              "440"
            ]
          },
          "metadata": {},
          "execution_count": 159
        }
      ]
    },
    {
      "cell_type": "code",
      "metadata": {
        "colab": {
          "base_uri": "https://localhost:8080/"
        },
        "id": "26R7zllx1y9n",
        "outputId": "78d9034c-6662-4520-ba1c-6846d76d3372"
      },
      "source": [
        "x_input=test_data[340:].reshape(1,-1) #obtengo los ultimos 100 dias de los datos de test\n",
        "x_input.shape\n"
      ],
      "execution_count": null,
      "outputs": [
        {
          "output_type": "execute_result",
          "data": {
            "text/plain": [
              "(1, 100)"
            ]
          },
          "metadata": {},
          "execution_count": 160
        }
      ]
    },
    {
      "cell_type": "code",
      "metadata": {
        "id": "twtgEn6O1y9o"
      },
      "source": [
        "temp_input=list(x_input)\n",
        "temp_input=temp_input[0].tolist()"
      ],
      "execution_count": null,
      "outputs": []
    },
    {
      "cell_type": "code",
      "metadata": {
        "colab": {
          "base_uri": "https://localhost:8080/"
        },
        "id": "YDfv2jVq1y9o",
        "outputId": "388a8d11-b7a0-4076-ed24-81b063ef6c3c"
      },
      "source": [
        "temp_input"
      ],
      "execution_count": null,
      "outputs": [
        {
          "output_type": "execute_result",
          "data": {
            "text/plain": [
              "[0.7789436370081531,\n",
              " 0.7656859269762495,\n",
              " 0.7738745125841899,\n",
              " 0.7812477844735908,\n",
              " 0.798050336760014,\n",
              " 0.8105636299184686,\n",
              " 0.8083658277206662,\n",
              " 0.7994682736618219,\n",
              " 0.7983339241403757,\n",
              " 0.7993264799716411,\n",
              " 0.793690180786955,\n",
              " 0.7933711449840481,\n",
              " 0.8015242821694433,\n",
              " 0.7993619283941862,\n",
              " 0.8100319035802905,\n",
              " 0.8098192130450192,\n",
              " 0.8058135412974121,\n",
              " 0.79911378943637,\n",
              " 0.800921658986175,\n",
              " 0.8110599078341012,\n",
              " 0.8218362282878411,\n",
              " 0.8280397022332506,\n",
              " 0.8226515420063805,\n",
              " 0.8143211627082594,\n",
              " 0.8357320099255581,\n",
              " 0.8626373626373625,\n",
              " 0.8636653668911731,\n",
              " 0.8564693371144982,\n",
              " 0.8543069833392412,\n",
              " 0.8439560439560436,\n",
              " 0.8461892945763914,\n",
              " 0.8599078341013822,\n",
              " 0.8538461538461537,\n",
              " 0.8536689117334277,\n",
              " 0.8512584190003543,\n",
              " 0.8512229705778092,\n",
              " 0.8478199220134703,\n",
              " 0.8479262672811059,\n",
              " 0.8374335342077277,\n",
              " 0.8319744771357673,\n",
              " 0.8365118752215526,\n",
              " 0.8464374335342078,\n",
              " 0.8642679900744414,\n",
              " 0.8656859269762496,\n",
              " 0.8467210209145692,\n",
              " 0.8269762495568946,\n",
              " 0.8287486706841545,\n",
              " 0.8421481744062387,\n",
              " 0.8456221198156681,\n",
              " 0.844877702942219,\n",
              " 0.8265154200638072,\n",
              " 0.7887628500531725,\n",
              " 0.7904643743353419,\n",
              " 0.783091102445941,\n",
              " 0.8085430698333924,\n",
              " 0.7873094647288195,\n",
              " 0.8073378234668556,\n",
              " 0.8227578872740162,\n",
              " 0.8289259127968804,\n",
              " 0.8289259127968804,\n",
              " 0.8267281105990782,\n",
              " 0.8219425735554766,\n",
              " 0.8341013824884791,\n",
              " 0.8569301666075859,\n",
              " 0.8621056362991846,\n",
              " 0.8730237504431053,\n",
              " 0.8763559021623537,\n",
              " 0.8734491315136477,\n",
              " 0.8853243530662884,\n",
              " 0.879652605459057,\n",
              " 0.8760014179369016,\n",
              " 0.8830202056008507,\n",
              " 0.9293158454448776,\n",
              " 0.9334987593052109,\n",
              " 0.9592697624955688,\n",
              " 0.9512938674228995,\n",
              " 0.9646224742998935,\n",
              " 0.9677064870613257,\n",
              " 0.9763559021623536,\n",
              " 0.9750088621056361,\n",
              " 0.9783055654023394,\n",
              " 0.9746189294576388,\n",
              " 0.9563629918468628,\n",
              " 0.9621410847217298,\n",
              " 0.9773484579936191,\n",
              " 0.9750443105281814,\n",
              " 0.987238567883729,\n",
              " 0.9858560794044664,\n",
              " 0.9934774902516836,\n",
              " 0.9999999999999998,\n",
              " 0.9883729174051752,\n",
              " 0.980751506557958,\n",
              " 0.9815668202764976,\n",
              " 0.9523927685218005,\n",
              " 0.9770294221907123,\n",
              " 0.9556185749734134,\n",
              " 0.9538107054236085,\n",
              " 0.951719248493442,\n",
              " 0.9287486706841543,\n",
              " 0.940021269053527]"
            ]
          },
          "metadata": {},
          "execution_count": 162
        }
      ]
    },
    {
      "cell_type": "code",
      "metadata": {
        "colab": {
          "base_uri": "https://localhost:8080/"
        },
        "id": "XIMBD0Hq1y9o",
        "outputId": "a519a788-1c15-4aa6-dbe0-88d642a58567"
      },
      "source": [
        "# demonstrate prediction for next 30 days\n",
        "from numpy import array\n",
        "\n",
        "lst_output=[]\n",
        "n_steps=100\n",
        "i=0\n",
        "while(i<30):\n",
        "    \n",
        "    if(len(temp_input)>100):\n",
        "        #print(temp_input)\n",
        "        x_input=np.array(temp_input[1:]) #Descartamos el valor más antiguo y nos quedamos con los 100 ultimos\n",
        "        print(\"{} day input {}\".format(i,x_input))\n",
        "        x_input=x_input.reshape(1,-1)\n",
        "        x_input = x_input.reshape((1, n_steps, 1)) #Es necesario para LSTM tener 3 dimensiones\n",
        "        #print(x_input)\n",
        "        yhat = model.predict(x_input, verbose=0)\n",
        "        print(\"{} day output {}\".format(i,yhat))\n",
        "        temp_input.extend(yhat[0].tolist())\n",
        "        temp_input=temp_input[1:]\n",
        "        #print(temp_input)\n",
        "        lst_output.extend(yhat.tolist())\n",
        "        i=i+1\n",
        "    else: #Aqui solo entra la primera vez\n",
        "        x_input = x_input.reshape((1, n_steps,1))\n",
        "        yhat = model.predict(x_input, verbose=0)\n",
        "        print(yhat[0])\n",
        "        temp_input.extend(yhat[0].tolist())\n",
        "        print(len(temp_input))\n",
        "        lst_output.extend(yhat.tolist())\n",
        "        i=i+1\n",
        "    \n",
        "\n",
        "print(lst_output)"
      ],
      "execution_count": null,
      "outputs": [
        {
          "output_type": "stream",
          "name": "stdout",
          "text": [
            "[0.7580232]\n",
            "101\n",
            "1 day input [0.76568593 0.77387451 0.78124778 0.79805034 0.81056363 0.80836583\n",
            " 0.79946827 0.79833392 0.79932648 0.79369018 0.79337114 0.80152428\n",
            " 0.79936193 0.8100319  0.80981921 0.80581354 0.79911379 0.80092166\n",
            " 0.81105991 0.82183623 0.8280397  0.82265154 0.81432116 0.83573201\n",
            " 0.86263736 0.86366537 0.85646934 0.85430698 0.84395604 0.84618929\n",
            " 0.85990783 0.85384615 0.85366891 0.85125842 0.85122297 0.84781992\n",
            " 0.84792627 0.83743353 0.83197448 0.83651188 0.84643743 0.86426799\n",
            " 0.86568593 0.84672102 0.82697625 0.82874867 0.84214817 0.84562212\n",
            " 0.8448777  0.82651542 0.78876285 0.79046437 0.7830911  0.80854307\n",
            " 0.78730946 0.80733782 0.82275789 0.82892591 0.82892591 0.82672811\n",
            " 0.82194257 0.83410138 0.85693017 0.86210564 0.87302375 0.8763559\n",
            " 0.87344913 0.88532435 0.87965261 0.87600142 0.88302021 0.92931585\n",
            " 0.93349876 0.95926976 0.95129387 0.96462247 0.96770649 0.9763559\n",
            " 0.97500886 0.97830557 0.97461893 0.95636299 0.96214108 0.97734846\n",
            " 0.97504431 0.98723857 0.98585608 0.99347749 1.         0.98837292\n",
            " 0.98075151 0.98156682 0.95239277 0.97702942 0.95561857 0.95381071\n",
            " 0.95171925 0.92874867 0.94002127 0.7580232 ]\n",
            "1 day output [[0.7357626]]\n",
            "2 day input [0.77387451 0.78124778 0.79805034 0.81056363 0.80836583 0.79946827\n",
            " 0.79833392 0.79932648 0.79369018 0.79337114 0.80152428 0.79936193\n",
            " 0.8100319  0.80981921 0.80581354 0.79911379 0.80092166 0.81105991\n",
            " 0.82183623 0.8280397  0.82265154 0.81432116 0.83573201 0.86263736\n",
            " 0.86366537 0.85646934 0.85430698 0.84395604 0.84618929 0.85990783\n",
            " 0.85384615 0.85366891 0.85125842 0.85122297 0.84781992 0.84792627\n",
            " 0.83743353 0.83197448 0.83651188 0.84643743 0.86426799 0.86568593\n",
            " 0.84672102 0.82697625 0.82874867 0.84214817 0.84562212 0.8448777\n",
            " 0.82651542 0.78876285 0.79046437 0.7830911  0.80854307 0.78730946\n",
            " 0.80733782 0.82275789 0.82892591 0.82892591 0.82672811 0.82194257\n",
            " 0.83410138 0.85693017 0.86210564 0.87302375 0.8763559  0.87344913\n",
            " 0.88532435 0.87965261 0.87600142 0.88302021 0.92931585 0.93349876\n",
            " 0.95926976 0.95129387 0.96462247 0.96770649 0.9763559  0.97500886\n",
            " 0.97830557 0.97461893 0.95636299 0.96214108 0.97734846 0.97504431\n",
            " 0.98723857 0.98585608 0.99347749 1.         0.98837292 0.98075151\n",
            " 0.98156682 0.95239277 0.97702942 0.95561857 0.95381071 0.95171925\n",
            " 0.92874867 0.94002127 0.7580232  0.7357626 ]\n",
            "2 day output [[0.6996041]]\n",
            "3 day input [0.78124778 0.79805034 0.81056363 0.80836583 0.79946827 0.79833392\n",
            " 0.79932648 0.79369018 0.79337114 0.80152428 0.79936193 0.8100319\n",
            " 0.80981921 0.80581354 0.79911379 0.80092166 0.81105991 0.82183623\n",
            " 0.8280397  0.82265154 0.81432116 0.83573201 0.86263736 0.86366537\n",
            " 0.85646934 0.85430698 0.84395604 0.84618929 0.85990783 0.85384615\n",
            " 0.85366891 0.85125842 0.85122297 0.84781992 0.84792627 0.83743353\n",
            " 0.83197448 0.83651188 0.84643743 0.86426799 0.86568593 0.84672102\n",
            " 0.82697625 0.82874867 0.84214817 0.84562212 0.8448777  0.82651542\n",
            " 0.78876285 0.79046437 0.7830911  0.80854307 0.78730946 0.80733782\n",
            " 0.82275789 0.82892591 0.82892591 0.82672811 0.82194257 0.83410138\n",
            " 0.85693017 0.86210564 0.87302375 0.8763559  0.87344913 0.88532435\n",
            " 0.87965261 0.87600142 0.88302021 0.92931585 0.93349876 0.95926976\n",
            " 0.95129387 0.96462247 0.96770649 0.9763559  0.97500886 0.97830557\n",
            " 0.97461893 0.95636299 0.96214108 0.97734846 0.97504431 0.98723857\n",
            " 0.98585608 0.99347749 1.         0.98837292 0.98075151 0.98156682\n",
            " 0.95239277 0.97702942 0.95561857 0.95381071 0.95171925 0.92874867\n",
            " 0.94002127 0.7580232  0.7357626  0.69960409]\n",
            "3 day output [[0.65577906]]\n",
            "4 day input [0.79805034 0.81056363 0.80836583 0.79946827 0.79833392 0.79932648\n",
            " 0.79369018 0.79337114 0.80152428 0.79936193 0.8100319  0.80981921\n",
            " 0.80581354 0.79911379 0.80092166 0.81105991 0.82183623 0.8280397\n",
            " 0.82265154 0.81432116 0.83573201 0.86263736 0.86366537 0.85646934\n",
            " 0.85430698 0.84395604 0.84618929 0.85990783 0.85384615 0.85366891\n",
            " 0.85125842 0.85122297 0.84781992 0.84792627 0.83743353 0.83197448\n",
            " 0.83651188 0.84643743 0.86426799 0.86568593 0.84672102 0.82697625\n",
            " 0.82874867 0.84214817 0.84562212 0.8448777  0.82651542 0.78876285\n",
            " 0.79046437 0.7830911  0.80854307 0.78730946 0.80733782 0.82275789\n",
            " 0.82892591 0.82892591 0.82672811 0.82194257 0.83410138 0.85693017\n",
            " 0.86210564 0.87302375 0.8763559  0.87344913 0.88532435 0.87965261\n",
            " 0.87600142 0.88302021 0.92931585 0.93349876 0.95926976 0.95129387\n",
            " 0.96462247 0.96770649 0.9763559  0.97500886 0.97830557 0.97461893\n",
            " 0.95636299 0.96214108 0.97734846 0.97504431 0.98723857 0.98585608\n",
            " 0.99347749 1.         0.98837292 0.98075151 0.98156682 0.95239277\n",
            " 0.97702942 0.95561857 0.95381071 0.95171925 0.92874867 0.94002127\n",
            " 0.7580232  0.7357626  0.69960409 0.65577906]\n",
            "4 day output [[0.6104458]]\n",
            "5 day input [0.81056363 0.80836583 0.79946827 0.79833392 0.79932648 0.79369018\n",
            " 0.79337114 0.80152428 0.79936193 0.8100319  0.80981921 0.80581354\n",
            " 0.79911379 0.80092166 0.81105991 0.82183623 0.8280397  0.82265154\n",
            " 0.81432116 0.83573201 0.86263736 0.86366537 0.85646934 0.85430698\n",
            " 0.84395604 0.84618929 0.85990783 0.85384615 0.85366891 0.85125842\n",
            " 0.85122297 0.84781992 0.84792627 0.83743353 0.83197448 0.83651188\n",
            " 0.84643743 0.86426799 0.86568593 0.84672102 0.82697625 0.82874867\n",
            " 0.84214817 0.84562212 0.8448777  0.82651542 0.78876285 0.79046437\n",
            " 0.7830911  0.80854307 0.78730946 0.80733782 0.82275789 0.82892591\n",
            " 0.82892591 0.82672811 0.82194257 0.83410138 0.85693017 0.86210564\n",
            " 0.87302375 0.8763559  0.87344913 0.88532435 0.87965261 0.87600142\n",
            " 0.88302021 0.92931585 0.93349876 0.95926976 0.95129387 0.96462247\n",
            " 0.96770649 0.9763559  0.97500886 0.97830557 0.97461893 0.95636299\n",
            " 0.96214108 0.97734846 0.97504431 0.98723857 0.98585608 0.99347749\n",
            " 1.         0.98837292 0.98075151 0.98156682 0.95239277 0.97702942\n",
            " 0.95561857 0.95381071 0.95171925 0.92874867 0.94002127 0.7580232\n",
            " 0.7357626  0.69960409 0.65577906 0.6104458 ]\n",
            "5 day output [[0.56820536]]\n",
            "6 day input [0.80836583 0.79946827 0.79833392 0.79932648 0.79369018 0.79337114\n",
            " 0.80152428 0.79936193 0.8100319  0.80981921 0.80581354 0.79911379\n",
            " 0.80092166 0.81105991 0.82183623 0.8280397  0.82265154 0.81432116\n",
            " 0.83573201 0.86263736 0.86366537 0.85646934 0.85430698 0.84395604\n",
            " 0.84618929 0.85990783 0.85384615 0.85366891 0.85125842 0.85122297\n",
            " 0.84781992 0.84792627 0.83743353 0.83197448 0.83651188 0.84643743\n",
            " 0.86426799 0.86568593 0.84672102 0.82697625 0.82874867 0.84214817\n",
            " 0.84562212 0.8448777  0.82651542 0.78876285 0.79046437 0.7830911\n",
            " 0.80854307 0.78730946 0.80733782 0.82275789 0.82892591 0.82892591\n",
            " 0.82672811 0.82194257 0.83410138 0.85693017 0.86210564 0.87302375\n",
            " 0.8763559  0.87344913 0.88532435 0.87965261 0.87600142 0.88302021\n",
            " 0.92931585 0.93349876 0.95926976 0.95129387 0.96462247 0.96770649\n",
            " 0.9763559  0.97500886 0.97830557 0.97461893 0.95636299 0.96214108\n",
            " 0.97734846 0.97504431 0.98723857 0.98585608 0.99347749 1.\n",
            " 0.98837292 0.98075151 0.98156682 0.95239277 0.97702942 0.95561857\n",
            " 0.95381071 0.95171925 0.92874867 0.94002127 0.7580232  0.7357626\n",
            " 0.69960409 0.65577906 0.6104458  0.56820536]\n",
            "6 day output [[0.53184915]]\n",
            "7 day input [0.79946827 0.79833392 0.79932648 0.79369018 0.79337114 0.80152428\n",
            " 0.79936193 0.8100319  0.80981921 0.80581354 0.79911379 0.80092166\n",
            " 0.81105991 0.82183623 0.8280397  0.82265154 0.81432116 0.83573201\n",
            " 0.86263736 0.86366537 0.85646934 0.85430698 0.84395604 0.84618929\n",
            " 0.85990783 0.85384615 0.85366891 0.85125842 0.85122297 0.84781992\n",
            " 0.84792627 0.83743353 0.83197448 0.83651188 0.84643743 0.86426799\n",
            " 0.86568593 0.84672102 0.82697625 0.82874867 0.84214817 0.84562212\n",
            " 0.8448777  0.82651542 0.78876285 0.79046437 0.7830911  0.80854307\n",
            " 0.78730946 0.80733782 0.82275789 0.82892591 0.82892591 0.82672811\n",
            " 0.82194257 0.83410138 0.85693017 0.86210564 0.87302375 0.8763559\n",
            " 0.87344913 0.88532435 0.87965261 0.87600142 0.88302021 0.92931585\n",
            " 0.93349876 0.95926976 0.95129387 0.96462247 0.96770649 0.9763559\n",
            " 0.97500886 0.97830557 0.97461893 0.95636299 0.96214108 0.97734846\n",
            " 0.97504431 0.98723857 0.98585608 0.99347749 1.         0.98837292\n",
            " 0.98075151 0.98156682 0.95239277 0.97702942 0.95561857 0.95381071\n",
            " 0.95171925 0.92874867 0.94002127 0.7580232  0.7357626  0.69960409\n",
            " 0.65577906 0.6104458  0.56820536 0.53184915]\n",
            "7 day output [[0.5026775]]\n",
            "8 day input [0.79833392 0.79932648 0.79369018 0.79337114 0.80152428 0.79936193\n",
            " 0.8100319  0.80981921 0.80581354 0.79911379 0.80092166 0.81105991\n",
            " 0.82183623 0.8280397  0.82265154 0.81432116 0.83573201 0.86263736\n",
            " 0.86366537 0.85646934 0.85430698 0.84395604 0.84618929 0.85990783\n",
            " 0.85384615 0.85366891 0.85125842 0.85122297 0.84781992 0.84792627\n",
            " 0.83743353 0.83197448 0.83651188 0.84643743 0.86426799 0.86568593\n",
            " 0.84672102 0.82697625 0.82874867 0.84214817 0.84562212 0.8448777\n",
            " 0.82651542 0.78876285 0.79046437 0.7830911  0.80854307 0.78730946\n",
            " 0.80733782 0.82275789 0.82892591 0.82892591 0.82672811 0.82194257\n",
            " 0.83410138 0.85693017 0.86210564 0.87302375 0.8763559  0.87344913\n",
            " 0.88532435 0.87965261 0.87600142 0.88302021 0.92931585 0.93349876\n",
            " 0.95926976 0.95129387 0.96462247 0.96770649 0.9763559  0.97500886\n",
            " 0.97830557 0.97461893 0.95636299 0.96214108 0.97734846 0.97504431\n",
            " 0.98723857 0.98585608 0.99347749 1.         0.98837292 0.98075151\n",
            " 0.98156682 0.95239277 0.97702942 0.95561857 0.95381071 0.95171925\n",
            " 0.92874867 0.94002127 0.7580232  0.7357626  0.69960409 0.65577906\n",
            " 0.6104458  0.56820536 0.53184915 0.5026775 ]\n",
            "8 day output [[0.48099992]]\n",
            "9 day input [0.79932648 0.79369018 0.79337114 0.80152428 0.79936193 0.8100319\n",
            " 0.80981921 0.80581354 0.79911379 0.80092166 0.81105991 0.82183623\n",
            " 0.8280397  0.82265154 0.81432116 0.83573201 0.86263736 0.86366537\n",
            " 0.85646934 0.85430698 0.84395604 0.84618929 0.85990783 0.85384615\n",
            " 0.85366891 0.85125842 0.85122297 0.84781992 0.84792627 0.83743353\n",
            " 0.83197448 0.83651188 0.84643743 0.86426799 0.86568593 0.84672102\n",
            " 0.82697625 0.82874867 0.84214817 0.84562212 0.8448777  0.82651542\n",
            " 0.78876285 0.79046437 0.7830911  0.80854307 0.78730946 0.80733782\n",
            " 0.82275789 0.82892591 0.82892591 0.82672811 0.82194257 0.83410138\n",
            " 0.85693017 0.86210564 0.87302375 0.8763559  0.87344913 0.88532435\n",
            " 0.87965261 0.87600142 0.88302021 0.92931585 0.93349876 0.95926976\n",
            " 0.95129387 0.96462247 0.96770649 0.9763559  0.97500886 0.97830557\n",
            " 0.97461893 0.95636299 0.96214108 0.97734846 0.97504431 0.98723857\n",
            " 0.98585608 0.99347749 1.         0.98837292 0.98075151 0.98156682\n",
            " 0.95239277 0.97702942 0.95561857 0.95381071 0.95171925 0.92874867\n",
            " 0.94002127 0.7580232  0.7357626  0.69960409 0.65577906 0.6104458\n",
            " 0.56820536 0.53184915 0.5026775  0.48099992]\n",
            "9 day output [[0.4666079]]\n",
            "10 day input [0.79369018 0.79337114 0.80152428 0.79936193 0.8100319  0.80981921\n",
            " 0.80581354 0.79911379 0.80092166 0.81105991 0.82183623 0.8280397\n",
            " 0.82265154 0.81432116 0.83573201 0.86263736 0.86366537 0.85646934\n",
            " 0.85430698 0.84395604 0.84618929 0.85990783 0.85384615 0.85366891\n",
            " 0.85125842 0.85122297 0.84781992 0.84792627 0.83743353 0.83197448\n",
            " 0.83651188 0.84643743 0.86426799 0.86568593 0.84672102 0.82697625\n",
            " 0.82874867 0.84214817 0.84562212 0.8448777  0.82651542 0.78876285\n",
            " 0.79046437 0.7830911  0.80854307 0.78730946 0.80733782 0.82275789\n",
            " 0.82892591 0.82892591 0.82672811 0.82194257 0.83410138 0.85693017\n",
            " 0.86210564 0.87302375 0.8763559  0.87344913 0.88532435 0.87965261\n",
            " 0.87600142 0.88302021 0.92931585 0.93349876 0.95926976 0.95129387\n",
            " 0.96462247 0.96770649 0.9763559  0.97500886 0.97830557 0.97461893\n",
            " 0.95636299 0.96214108 0.97734846 0.97504431 0.98723857 0.98585608\n",
            " 0.99347749 1.         0.98837292 0.98075151 0.98156682 0.95239277\n",
            " 0.97702942 0.95561857 0.95381071 0.95171925 0.92874867 0.94002127\n",
            " 0.7580232  0.7357626  0.69960409 0.65577906 0.6104458  0.56820536\n",
            " 0.53184915 0.5026775  0.48099992 0.4666079 ]\n",
            "10 day output [[0.45911786]]\n",
            "11 day input [0.79337114 0.80152428 0.79936193 0.8100319  0.80981921 0.80581354\n",
            " 0.79911379 0.80092166 0.81105991 0.82183623 0.8280397  0.82265154\n",
            " 0.81432116 0.83573201 0.86263736 0.86366537 0.85646934 0.85430698\n",
            " 0.84395604 0.84618929 0.85990783 0.85384615 0.85366891 0.85125842\n",
            " 0.85122297 0.84781992 0.84792627 0.83743353 0.83197448 0.83651188\n",
            " 0.84643743 0.86426799 0.86568593 0.84672102 0.82697625 0.82874867\n",
            " 0.84214817 0.84562212 0.8448777  0.82651542 0.78876285 0.79046437\n",
            " 0.7830911  0.80854307 0.78730946 0.80733782 0.82275789 0.82892591\n",
            " 0.82892591 0.82672811 0.82194257 0.83410138 0.85693017 0.86210564\n",
            " 0.87302375 0.8763559  0.87344913 0.88532435 0.87965261 0.87600142\n",
            " 0.88302021 0.92931585 0.93349876 0.95926976 0.95129387 0.96462247\n",
            " 0.96770649 0.9763559  0.97500886 0.97830557 0.97461893 0.95636299\n",
            " 0.96214108 0.97734846 0.97504431 0.98723857 0.98585608 0.99347749\n",
            " 1.         0.98837292 0.98075151 0.98156682 0.95239277 0.97702942\n",
            " 0.95561857 0.95381071 0.95171925 0.92874867 0.94002127 0.7580232\n",
            " 0.7357626  0.69960409 0.65577906 0.6104458  0.56820536 0.53184915\n",
            " 0.5026775  0.48099992 0.4666079  0.45911786]\n",
            "11 day output [[0.4581692]]\n",
            "12 day input [0.80152428 0.79936193 0.8100319  0.80981921 0.80581354 0.79911379\n",
            " 0.80092166 0.81105991 0.82183623 0.8280397  0.82265154 0.81432116\n",
            " 0.83573201 0.86263736 0.86366537 0.85646934 0.85430698 0.84395604\n",
            " 0.84618929 0.85990783 0.85384615 0.85366891 0.85125842 0.85122297\n",
            " 0.84781992 0.84792627 0.83743353 0.83197448 0.83651188 0.84643743\n",
            " 0.86426799 0.86568593 0.84672102 0.82697625 0.82874867 0.84214817\n",
            " 0.84562212 0.8448777  0.82651542 0.78876285 0.79046437 0.7830911\n",
            " 0.80854307 0.78730946 0.80733782 0.82275789 0.82892591 0.82892591\n",
            " 0.82672811 0.82194257 0.83410138 0.85693017 0.86210564 0.87302375\n",
            " 0.8763559  0.87344913 0.88532435 0.87965261 0.87600142 0.88302021\n",
            " 0.92931585 0.93349876 0.95926976 0.95129387 0.96462247 0.96770649\n",
            " 0.9763559  0.97500886 0.97830557 0.97461893 0.95636299 0.96214108\n",
            " 0.97734846 0.97504431 0.98723857 0.98585608 0.99347749 1.\n",
            " 0.98837292 0.98075151 0.98156682 0.95239277 0.97702942 0.95561857\n",
            " 0.95381071 0.95171925 0.92874867 0.94002127 0.7580232  0.7357626\n",
            " 0.69960409 0.65577906 0.6104458  0.56820536 0.53184915 0.5026775\n",
            " 0.48099992 0.4666079  0.45911786 0.45816919]\n",
            "12 day output [[0.46350694]]\n",
            "13 day input [0.79936193 0.8100319  0.80981921 0.80581354 0.79911379 0.80092166\n",
            " 0.81105991 0.82183623 0.8280397  0.82265154 0.81432116 0.83573201\n",
            " 0.86263736 0.86366537 0.85646934 0.85430698 0.84395604 0.84618929\n",
            " 0.85990783 0.85384615 0.85366891 0.85125842 0.85122297 0.84781992\n",
            " 0.84792627 0.83743353 0.83197448 0.83651188 0.84643743 0.86426799\n",
            " 0.86568593 0.84672102 0.82697625 0.82874867 0.84214817 0.84562212\n",
            " 0.8448777  0.82651542 0.78876285 0.79046437 0.7830911  0.80854307\n",
            " 0.78730946 0.80733782 0.82275789 0.82892591 0.82892591 0.82672811\n",
            " 0.82194257 0.83410138 0.85693017 0.86210564 0.87302375 0.8763559\n",
            " 0.87344913 0.88532435 0.87965261 0.87600142 0.88302021 0.92931585\n",
            " 0.93349876 0.95926976 0.95129387 0.96462247 0.96770649 0.9763559\n",
            " 0.97500886 0.97830557 0.97461893 0.95636299 0.96214108 0.97734846\n",
            " 0.97504431 0.98723857 0.98585608 0.99347749 1.         0.98837292\n",
            " 0.98075151 0.98156682 0.95239277 0.97702942 0.95561857 0.95381071\n",
            " 0.95171925 0.92874867 0.94002127 0.7580232  0.7357626  0.69960409\n",
            " 0.65577906 0.6104458  0.56820536 0.53184915 0.5026775  0.48099992\n",
            " 0.4666079  0.45911786 0.45816919 0.46350694]\n",
            "13 day output [[0.4749878]]\n",
            "14 day input [0.8100319  0.80981921 0.80581354 0.79911379 0.80092166 0.81105991\n",
            " 0.82183623 0.8280397  0.82265154 0.81432116 0.83573201 0.86263736\n",
            " 0.86366537 0.85646934 0.85430698 0.84395604 0.84618929 0.85990783\n",
            " 0.85384615 0.85366891 0.85125842 0.85122297 0.84781992 0.84792627\n",
            " 0.83743353 0.83197448 0.83651188 0.84643743 0.86426799 0.86568593\n",
            " 0.84672102 0.82697625 0.82874867 0.84214817 0.84562212 0.8448777\n",
            " 0.82651542 0.78876285 0.79046437 0.7830911  0.80854307 0.78730946\n",
            " 0.80733782 0.82275789 0.82892591 0.82892591 0.82672811 0.82194257\n",
            " 0.83410138 0.85693017 0.86210564 0.87302375 0.8763559  0.87344913\n",
            " 0.88532435 0.87965261 0.87600142 0.88302021 0.92931585 0.93349876\n",
            " 0.95926976 0.95129387 0.96462247 0.96770649 0.9763559  0.97500886\n",
            " 0.97830557 0.97461893 0.95636299 0.96214108 0.97734846 0.97504431\n",
            " 0.98723857 0.98585608 0.99347749 1.         0.98837292 0.98075151\n",
            " 0.98156682 0.95239277 0.97702942 0.95561857 0.95381071 0.95171925\n",
            " 0.92874867 0.94002127 0.7580232  0.7357626  0.69960409 0.65577906\n",
            " 0.6104458  0.56820536 0.53184915 0.5026775  0.48099992 0.4666079\n",
            " 0.45911786 0.45816919 0.46350694 0.4749878 ]\n",
            "14 day output [[0.49254805]]\n",
            "15 day input [0.80981921 0.80581354 0.79911379 0.80092166 0.81105991 0.82183623\n",
            " 0.8280397  0.82265154 0.81432116 0.83573201 0.86263736 0.86366537\n",
            " 0.85646934 0.85430698 0.84395604 0.84618929 0.85990783 0.85384615\n",
            " 0.85366891 0.85125842 0.85122297 0.84781992 0.84792627 0.83743353\n",
            " 0.83197448 0.83651188 0.84643743 0.86426799 0.86568593 0.84672102\n",
            " 0.82697625 0.82874867 0.84214817 0.84562212 0.8448777  0.82651542\n",
            " 0.78876285 0.79046437 0.7830911  0.80854307 0.78730946 0.80733782\n",
            " 0.82275789 0.82892591 0.82892591 0.82672811 0.82194257 0.83410138\n",
            " 0.85693017 0.86210564 0.87302375 0.8763559  0.87344913 0.88532435\n",
            " 0.87965261 0.87600142 0.88302021 0.92931585 0.93349876 0.95926976\n",
            " 0.95129387 0.96462247 0.96770649 0.9763559  0.97500886 0.97830557\n",
            " 0.97461893 0.95636299 0.96214108 0.97734846 0.97504431 0.98723857\n",
            " 0.98585608 0.99347749 1.         0.98837292 0.98075151 0.98156682\n",
            " 0.95239277 0.97702942 0.95561857 0.95381071 0.95171925 0.92874867\n",
            " 0.94002127 0.7580232  0.7357626  0.69960409 0.65577906 0.6104458\n",
            " 0.56820536 0.53184915 0.5026775  0.48099992 0.4666079  0.45911786\n",
            " 0.45816919 0.46350694 0.4749878  0.49254805]\n",
            "15 day output [[0.5161628]]\n",
            "16 day input [0.80581354 0.79911379 0.80092166 0.81105991 0.82183623 0.8280397\n",
            " 0.82265154 0.81432116 0.83573201 0.86263736 0.86366537 0.85646934\n",
            " 0.85430698 0.84395604 0.84618929 0.85990783 0.85384615 0.85366891\n",
            " 0.85125842 0.85122297 0.84781992 0.84792627 0.83743353 0.83197448\n",
            " 0.83651188 0.84643743 0.86426799 0.86568593 0.84672102 0.82697625\n",
            " 0.82874867 0.84214817 0.84562212 0.8448777  0.82651542 0.78876285\n",
            " 0.79046437 0.7830911  0.80854307 0.78730946 0.80733782 0.82275789\n",
            " 0.82892591 0.82892591 0.82672811 0.82194257 0.83410138 0.85693017\n",
            " 0.86210564 0.87302375 0.8763559  0.87344913 0.88532435 0.87965261\n",
            " 0.87600142 0.88302021 0.92931585 0.93349876 0.95926976 0.95129387\n",
            " 0.96462247 0.96770649 0.9763559  0.97500886 0.97830557 0.97461893\n",
            " 0.95636299 0.96214108 0.97734846 0.97504431 0.98723857 0.98585608\n",
            " 0.99347749 1.         0.98837292 0.98075151 0.98156682 0.95239277\n",
            " 0.97702942 0.95561857 0.95381071 0.95171925 0.92874867 0.94002127\n",
            " 0.7580232  0.7357626  0.69960409 0.65577906 0.6104458  0.56820536\n",
            " 0.53184915 0.5026775  0.48099992 0.4666079  0.45911786 0.45816919\n",
            " 0.46350694 0.4749878  0.49254805 0.51616281]\n",
            "16 day output [[0.5458127]]\n",
            "17 day input [0.79911379 0.80092166 0.81105991 0.82183623 0.8280397  0.82265154\n",
            " 0.81432116 0.83573201 0.86263736 0.86366537 0.85646934 0.85430698\n",
            " 0.84395604 0.84618929 0.85990783 0.85384615 0.85366891 0.85125842\n",
            " 0.85122297 0.84781992 0.84792627 0.83743353 0.83197448 0.83651188\n",
            " 0.84643743 0.86426799 0.86568593 0.84672102 0.82697625 0.82874867\n",
            " 0.84214817 0.84562212 0.8448777  0.82651542 0.78876285 0.79046437\n",
            " 0.7830911  0.80854307 0.78730946 0.80733782 0.82275789 0.82892591\n",
            " 0.82892591 0.82672811 0.82194257 0.83410138 0.85693017 0.86210564\n",
            " 0.87302375 0.8763559  0.87344913 0.88532435 0.87965261 0.87600142\n",
            " 0.88302021 0.92931585 0.93349876 0.95926976 0.95129387 0.96462247\n",
            " 0.96770649 0.9763559  0.97500886 0.97830557 0.97461893 0.95636299\n",
            " 0.96214108 0.97734846 0.97504431 0.98723857 0.98585608 0.99347749\n",
            " 1.         0.98837292 0.98075151 0.98156682 0.95239277 0.97702942\n",
            " 0.95561857 0.95381071 0.95171925 0.92874867 0.94002127 0.7580232\n",
            " 0.7357626  0.69960409 0.65577906 0.6104458  0.56820536 0.53184915\n",
            " 0.5026775  0.48099992 0.4666079  0.45911786 0.45816919 0.46350694\n",
            " 0.4749878  0.49254805 0.51616281 0.54581273]\n",
            "17 day output [[0.58145905]]\n",
            "18 day input [0.80092166 0.81105991 0.82183623 0.8280397  0.82265154 0.81432116\n",
            " 0.83573201 0.86263736 0.86366537 0.85646934 0.85430698 0.84395604\n",
            " 0.84618929 0.85990783 0.85384615 0.85366891 0.85125842 0.85122297\n",
            " 0.84781992 0.84792627 0.83743353 0.83197448 0.83651188 0.84643743\n",
            " 0.86426799 0.86568593 0.84672102 0.82697625 0.82874867 0.84214817\n",
            " 0.84562212 0.8448777  0.82651542 0.78876285 0.79046437 0.7830911\n",
            " 0.80854307 0.78730946 0.80733782 0.82275789 0.82892591 0.82892591\n",
            " 0.82672811 0.82194257 0.83410138 0.85693017 0.86210564 0.87302375\n",
            " 0.8763559  0.87344913 0.88532435 0.87965261 0.87600142 0.88302021\n",
            " 0.92931585 0.93349876 0.95926976 0.95129387 0.96462247 0.96770649\n",
            " 0.9763559  0.97500886 0.97830557 0.97461893 0.95636299 0.96214108\n",
            " 0.97734846 0.97504431 0.98723857 0.98585608 0.99347749 1.\n",
            " 0.98837292 0.98075151 0.98156682 0.95239277 0.97702942 0.95561857\n",
            " 0.95381071 0.95171925 0.92874867 0.94002127 0.7580232  0.7357626\n",
            " 0.69960409 0.65577906 0.6104458  0.56820536 0.53184915 0.5026775\n",
            " 0.48099992 0.4666079  0.45911786 0.45816919 0.46350694 0.4749878\n",
            " 0.49254805 0.51616281 0.54581273 0.58145905]\n",
            "18 day output [[0.6230242]]\n",
            "19 day input [0.81105991 0.82183623 0.8280397  0.82265154 0.81432116 0.83573201\n",
            " 0.86263736 0.86366537 0.85646934 0.85430698 0.84395604 0.84618929\n",
            " 0.85990783 0.85384615 0.85366891 0.85125842 0.85122297 0.84781992\n",
            " 0.84792627 0.83743353 0.83197448 0.83651188 0.84643743 0.86426799\n",
            " 0.86568593 0.84672102 0.82697625 0.82874867 0.84214817 0.84562212\n",
            " 0.8448777  0.82651542 0.78876285 0.79046437 0.7830911  0.80854307\n",
            " 0.78730946 0.80733782 0.82275789 0.82892591 0.82892591 0.82672811\n",
            " 0.82194257 0.83410138 0.85693017 0.86210564 0.87302375 0.8763559\n",
            " 0.87344913 0.88532435 0.87965261 0.87600142 0.88302021 0.92931585\n",
            " 0.93349876 0.95926976 0.95129387 0.96462247 0.96770649 0.9763559\n",
            " 0.97500886 0.97830557 0.97461893 0.95636299 0.96214108 0.97734846\n",
            " 0.97504431 0.98723857 0.98585608 0.99347749 1.         0.98837292\n",
            " 0.98075151 0.98156682 0.95239277 0.97702942 0.95561857 0.95381071\n",
            " 0.95171925 0.92874867 0.94002127 0.7580232  0.7357626  0.69960409\n",
            " 0.65577906 0.6104458  0.56820536 0.53184915 0.5026775  0.48099992\n",
            " 0.4666079  0.45911786 0.45816919 0.46350694 0.4749878  0.49254805\n",
            " 0.51616281 0.54581273 0.58145905 0.62302423]\n",
            "19 day output [[0.6703507]]\n",
            "20 day input [0.82183623 0.8280397  0.82265154 0.81432116 0.83573201 0.86263736\n",
            " 0.86366537 0.85646934 0.85430698 0.84395604 0.84618929 0.85990783\n",
            " 0.85384615 0.85366891 0.85125842 0.85122297 0.84781992 0.84792627\n",
            " 0.83743353 0.83197448 0.83651188 0.84643743 0.86426799 0.86568593\n",
            " 0.84672102 0.82697625 0.82874867 0.84214817 0.84562212 0.8448777\n",
            " 0.82651542 0.78876285 0.79046437 0.7830911  0.80854307 0.78730946\n",
            " 0.80733782 0.82275789 0.82892591 0.82892591 0.82672811 0.82194257\n",
            " 0.83410138 0.85693017 0.86210564 0.87302375 0.8763559  0.87344913\n",
            " 0.88532435 0.87965261 0.87600142 0.88302021 0.92931585 0.93349876\n",
            " 0.95926976 0.95129387 0.96462247 0.96770649 0.9763559  0.97500886\n",
            " 0.97830557 0.97461893 0.95636299 0.96214108 0.97734846 0.97504431\n",
            " 0.98723857 0.98585608 0.99347749 1.         0.98837292 0.98075151\n",
            " 0.98156682 0.95239277 0.97702942 0.95561857 0.95381071 0.95171925\n",
            " 0.92874867 0.94002127 0.7580232  0.7357626  0.69960409 0.65577906\n",
            " 0.6104458  0.56820536 0.53184915 0.5026775  0.48099992 0.4666079\n",
            " 0.45911786 0.45816919 0.46350694 0.4749878  0.49254805 0.51616281\n",
            " 0.54581273 0.58145905 0.62302423 0.67035067]\n",
            "20 day output [[0.7231164]]\n",
            "21 day input [0.8280397  0.82265154 0.81432116 0.83573201 0.86263736 0.86366537\n",
            " 0.85646934 0.85430698 0.84395604 0.84618929 0.85990783 0.85384615\n",
            " 0.85366891 0.85125842 0.85122297 0.84781992 0.84792627 0.83743353\n",
            " 0.83197448 0.83651188 0.84643743 0.86426799 0.86568593 0.84672102\n",
            " 0.82697625 0.82874867 0.84214817 0.84562212 0.8448777  0.82651542\n",
            " 0.78876285 0.79046437 0.7830911  0.80854307 0.78730946 0.80733782\n",
            " 0.82275789 0.82892591 0.82892591 0.82672811 0.82194257 0.83410138\n",
            " 0.85693017 0.86210564 0.87302375 0.8763559  0.87344913 0.88532435\n",
            " 0.87965261 0.87600142 0.88302021 0.92931585 0.93349876 0.95926976\n",
            " 0.95129387 0.96462247 0.96770649 0.9763559  0.97500886 0.97830557\n",
            " 0.97461893 0.95636299 0.96214108 0.97734846 0.97504431 0.98723857\n",
            " 0.98585608 0.99347749 1.         0.98837292 0.98075151 0.98156682\n",
            " 0.95239277 0.97702942 0.95561857 0.95381071 0.95171925 0.92874867\n",
            " 0.94002127 0.7580232  0.7357626  0.69960409 0.65577906 0.6104458\n",
            " 0.56820536 0.53184915 0.5026775  0.48099992 0.4666079  0.45911786\n",
            " 0.45816919 0.46350694 0.4749878  0.49254805 0.51616281 0.54581273\n",
            " 0.58145905 0.62302423 0.67035067 0.7231164 ]\n",
            "21 day output [[0.78067595]]\n",
            "22 day input [0.82265154 0.81432116 0.83573201 0.86263736 0.86366537 0.85646934\n",
            " 0.85430698 0.84395604 0.84618929 0.85990783 0.85384615 0.85366891\n",
            " 0.85125842 0.85122297 0.84781992 0.84792627 0.83743353 0.83197448\n",
            " 0.83651188 0.84643743 0.86426799 0.86568593 0.84672102 0.82697625\n",
            " 0.82874867 0.84214817 0.84562212 0.8448777  0.82651542 0.78876285\n",
            " 0.79046437 0.7830911  0.80854307 0.78730946 0.80733782 0.82275789\n",
            " 0.82892591 0.82892591 0.82672811 0.82194257 0.83410138 0.85693017\n",
            " 0.86210564 0.87302375 0.8763559  0.87344913 0.88532435 0.87965261\n",
            " 0.87600142 0.88302021 0.92931585 0.93349876 0.95926976 0.95129387\n",
            " 0.96462247 0.96770649 0.9763559  0.97500886 0.97830557 0.97461893\n",
            " 0.95636299 0.96214108 0.97734846 0.97504431 0.98723857 0.98585608\n",
            " 0.99347749 1.         0.98837292 0.98075151 0.98156682 0.95239277\n",
            " 0.97702942 0.95561857 0.95381071 0.95171925 0.92874867 0.94002127\n",
            " 0.7580232  0.7357626  0.69960409 0.65577906 0.6104458  0.56820536\n",
            " 0.53184915 0.5026775  0.48099992 0.4666079  0.45911786 0.45816919\n",
            " 0.46350694 0.4749878  0.49254805 0.51616281 0.54581273 0.58145905\n",
            " 0.62302423 0.67035067 0.7231164  0.78067595]\n",
            "22 day output [[0.8418256]]\n",
            "23 day input [0.81432116 0.83573201 0.86263736 0.86366537 0.85646934 0.85430698\n",
            " 0.84395604 0.84618929 0.85990783 0.85384615 0.85366891 0.85125842\n",
            " 0.85122297 0.84781992 0.84792627 0.83743353 0.83197448 0.83651188\n",
            " 0.84643743 0.86426799 0.86568593 0.84672102 0.82697625 0.82874867\n",
            " 0.84214817 0.84562212 0.8448777  0.82651542 0.78876285 0.79046437\n",
            " 0.7830911  0.80854307 0.78730946 0.80733782 0.82275789 0.82892591\n",
            " 0.82892591 0.82672811 0.82194257 0.83410138 0.85693017 0.86210564\n",
            " 0.87302375 0.8763559  0.87344913 0.88532435 0.87965261 0.87600142\n",
            " 0.88302021 0.92931585 0.93349876 0.95926976 0.95129387 0.96462247\n",
            " 0.96770649 0.9763559  0.97500886 0.97830557 0.97461893 0.95636299\n",
            " 0.96214108 0.97734846 0.97504431 0.98723857 0.98585608 0.99347749\n",
            " 1.         0.98837292 0.98075151 0.98156682 0.95239277 0.97702942\n",
            " 0.95561857 0.95381071 0.95171925 0.92874867 0.94002127 0.7580232\n",
            " 0.7357626  0.69960409 0.65577906 0.6104458  0.56820536 0.53184915\n",
            " 0.5026775  0.48099992 0.4666079  0.45911786 0.45816919 0.46350694\n",
            " 0.4749878  0.49254805 0.51616281 0.54581273 0.58145905 0.62302423\n",
            " 0.67035067 0.7231164  0.78067595 0.8418256 ]\n",
            "23 day output [[0.904541]]\n",
            "24 day input [0.83573201 0.86263736 0.86366537 0.85646934 0.85430698 0.84395604\n",
            " 0.84618929 0.85990783 0.85384615 0.85366891 0.85125842 0.85122297\n",
            " 0.84781992 0.84792627 0.83743353 0.83197448 0.83651188 0.84643743\n",
            " 0.86426799 0.86568593 0.84672102 0.82697625 0.82874867 0.84214817\n",
            " 0.84562212 0.8448777  0.82651542 0.78876285 0.79046437 0.7830911\n",
            " 0.80854307 0.78730946 0.80733782 0.82275789 0.82892591 0.82892591\n",
            " 0.82672811 0.82194257 0.83410138 0.85693017 0.86210564 0.87302375\n",
            " 0.8763559  0.87344913 0.88532435 0.87965261 0.87600142 0.88302021\n",
            " 0.92931585 0.93349876 0.95926976 0.95129387 0.96462247 0.96770649\n",
            " 0.9763559  0.97500886 0.97830557 0.97461893 0.95636299 0.96214108\n",
            " 0.97734846 0.97504431 0.98723857 0.98585608 0.99347749 1.\n",
            " 0.98837292 0.98075151 0.98156682 0.95239277 0.97702942 0.95561857\n",
            " 0.95381071 0.95171925 0.92874867 0.94002127 0.7580232  0.7357626\n",
            " 0.69960409 0.65577906 0.6104458  0.56820536 0.53184915 0.5026775\n",
            " 0.48099992 0.4666079  0.45911786 0.45816919 0.46350694 0.4749878\n",
            " 0.49254805 0.51616281 0.54581273 0.58145905 0.62302423 0.67035067\n",
            " 0.7231164  0.78067595 0.8418256  0.90454102]\n",
            "24 day output [[0.96582985]]\n",
            "25 day input [0.86263736 0.86366537 0.85646934 0.85430698 0.84395604 0.84618929\n",
            " 0.85990783 0.85384615 0.85366891 0.85125842 0.85122297 0.84781992\n",
            " 0.84792627 0.83743353 0.83197448 0.83651188 0.84643743 0.86426799\n",
            " 0.86568593 0.84672102 0.82697625 0.82874867 0.84214817 0.84562212\n",
            " 0.8448777  0.82651542 0.78876285 0.79046437 0.7830911  0.80854307\n",
            " 0.78730946 0.80733782 0.82275789 0.82892591 0.82892591 0.82672811\n",
            " 0.82194257 0.83410138 0.85693017 0.86210564 0.87302375 0.8763559\n",
            " 0.87344913 0.88532435 0.87965261 0.87600142 0.88302021 0.92931585\n",
            " 0.93349876 0.95926976 0.95129387 0.96462247 0.96770649 0.9763559\n",
            " 0.97500886 0.97830557 0.97461893 0.95636299 0.96214108 0.97734846\n",
            " 0.97504431 0.98723857 0.98585608 0.99347749 1.         0.98837292\n",
            " 0.98075151 0.98156682 0.95239277 0.97702942 0.95561857 0.95381071\n",
            " 0.95171925 0.92874867 0.94002127 0.7580232  0.7357626  0.69960409\n",
            " 0.65577906 0.6104458  0.56820536 0.53184915 0.5026775  0.48099992\n",
            " 0.4666079  0.45911786 0.45816919 0.46350694 0.4749878  0.49254805\n",
            " 0.51616281 0.54581273 0.58145905 0.62302423 0.67035067 0.7231164\n",
            " 0.78067595 0.8418256  0.90454102 0.96582985]\n",
            "25 day output [[1.0218725]]\n",
            "26 day input [0.86366537 0.85646934 0.85430698 0.84395604 0.84618929 0.85990783\n",
            " 0.85384615 0.85366891 0.85125842 0.85122297 0.84781992 0.84792627\n",
            " 0.83743353 0.83197448 0.83651188 0.84643743 0.86426799 0.86568593\n",
            " 0.84672102 0.82697625 0.82874867 0.84214817 0.84562212 0.8448777\n",
            " 0.82651542 0.78876285 0.79046437 0.7830911  0.80854307 0.78730946\n",
            " 0.80733782 0.82275789 0.82892591 0.82892591 0.82672811 0.82194257\n",
            " 0.83410138 0.85693017 0.86210564 0.87302375 0.8763559  0.87344913\n",
            " 0.88532435 0.87965261 0.87600142 0.88302021 0.92931585 0.93349876\n",
            " 0.95926976 0.95129387 0.96462247 0.96770649 0.9763559  0.97500886\n",
            " 0.97830557 0.97461893 0.95636299 0.96214108 0.97734846 0.97504431\n",
            " 0.98723857 0.98585608 0.99347749 1.         0.98837292 0.98075151\n",
            " 0.98156682 0.95239277 0.97702942 0.95561857 0.95381071 0.95171925\n",
            " 0.92874867 0.94002127 0.7580232  0.7357626  0.69960409 0.65577906\n",
            " 0.6104458  0.56820536 0.53184915 0.5026775  0.48099992 0.4666079\n",
            " 0.45911786 0.45816919 0.46350694 0.4749878  0.49254805 0.51616281\n",
            " 0.54581273 0.58145905 0.62302423 0.67035067 0.7231164  0.78067595\n",
            " 0.8418256  0.90454102 0.96582985 1.02187252]\n",
            "26 day output [[1.0685153]]\n",
            "27 day input [0.85646934 0.85430698 0.84395604 0.84618929 0.85990783 0.85384615\n",
            " 0.85366891 0.85125842 0.85122297 0.84781992 0.84792627 0.83743353\n",
            " 0.83197448 0.83651188 0.84643743 0.86426799 0.86568593 0.84672102\n",
            " 0.82697625 0.82874867 0.84214817 0.84562212 0.8448777  0.82651542\n",
            " 0.78876285 0.79046437 0.7830911  0.80854307 0.78730946 0.80733782\n",
            " 0.82275789 0.82892591 0.82892591 0.82672811 0.82194257 0.83410138\n",
            " 0.85693017 0.86210564 0.87302375 0.8763559  0.87344913 0.88532435\n",
            " 0.87965261 0.87600142 0.88302021 0.92931585 0.93349876 0.95926976\n",
            " 0.95129387 0.96462247 0.96770649 0.9763559  0.97500886 0.97830557\n",
            " 0.97461893 0.95636299 0.96214108 0.97734846 0.97504431 0.98723857\n",
            " 0.98585608 0.99347749 1.         0.98837292 0.98075151 0.98156682\n",
            " 0.95239277 0.97702942 0.95561857 0.95381071 0.95171925 0.92874867\n",
            " 0.94002127 0.7580232  0.7357626  0.69960409 0.65577906 0.6104458\n",
            " 0.56820536 0.53184915 0.5026775  0.48099992 0.4666079  0.45911786\n",
            " 0.45816919 0.46350694 0.4749878  0.49254805 0.51616281 0.54581273\n",
            " 0.58145905 0.62302423 0.67035067 0.7231164  0.78067595 0.8418256\n",
            " 0.90454102 0.96582985 1.02187252 1.0685153 ]\n",
            "27 day output [[1.1018754]]\n",
            "28 day input [0.85430698 0.84395604 0.84618929 0.85990783 0.85384615 0.85366891\n",
            " 0.85125842 0.85122297 0.84781992 0.84792627 0.83743353 0.83197448\n",
            " 0.83651188 0.84643743 0.86426799 0.86568593 0.84672102 0.82697625\n",
            " 0.82874867 0.84214817 0.84562212 0.8448777  0.82651542 0.78876285\n",
            " 0.79046437 0.7830911  0.80854307 0.78730946 0.80733782 0.82275789\n",
            " 0.82892591 0.82892591 0.82672811 0.82194257 0.83410138 0.85693017\n",
            " 0.86210564 0.87302375 0.8763559  0.87344913 0.88532435 0.87965261\n",
            " 0.87600142 0.88302021 0.92931585 0.93349876 0.95926976 0.95129387\n",
            " 0.96462247 0.96770649 0.9763559  0.97500886 0.97830557 0.97461893\n",
            " 0.95636299 0.96214108 0.97734846 0.97504431 0.98723857 0.98585608\n",
            " 0.99347749 1.         0.98837292 0.98075151 0.98156682 0.95239277\n",
            " 0.97702942 0.95561857 0.95381071 0.95171925 0.92874867 0.94002127\n",
            " 0.7580232  0.7357626  0.69960409 0.65577906 0.6104458  0.56820536\n",
            " 0.53184915 0.5026775  0.48099992 0.4666079  0.45911786 0.45816919\n",
            " 0.46350694 0.4749878  0.49254805 0.51616281 0.54581273 0.58145905\n",
            " 0.62302423 0.67035067 0.7231164  0.78067595 0.8418256  0.90454102\n",
            " 0.96582985 1.02187252 1.0685153  1.10187542]\n",
            "28 day output [[1.1187049]]\n",
            "29 day input [0.84395604 0.84618929 0.85990783 0.85384615 0.85366891 0.85125842\n",
            " 0.85122297 0.84781992 0.84792627 0.83743353 0.83197448 0.83651188\n",
            " 0.84643743 0.86426799 0.86568593 0.84672102 0.82697625 0.82874867\n",
            " 0.84214817 0.84562212 0.8448777  0.82651542 0.78876285 0.79046437\n",
            " 0.7830911  0.80854307 0.78730946 0.80733782 0.82275789 0.82892591\n",
            " 0.82892591 0.82672811 0.82194257 0.83410138 0.85693017 0.86210564\n",
            " 0.87302375 0.8763559  0.87344913 0.88532435 0.87965261 0.87600142\n",
            " 0.88302021 0.92931585 0.93349876 0.95926976 0.95129387 0.96462247\n",
            " 0.96770649 0.9763559  0.97500886 0.97830557 0.97461893 0.95636299\n",
            " 0.96214108 0.97734846 0.97504431 0.98723857 0.98585608 0.99347749\n",
            " 1.         0.98837292 0.98075151 0.98156682 0.95239277 0.97702942\n",
            " 0.95561857 0.95381071 0.95171925 0.92874867 0.94002127 0.7580232\n",
            " 0.7357626  0.69960409 0.65577906 0.6104458  0.56820536 0.53184915\n",
            " 0.5026775  0.48099992 0.4666079  0.45911786 0.45816919 0.46350694\n",
            " 0.4749878  0.49254805 0.51616281 0.54581273 0.58145905 0.62302423\n",
            " 0.67035067 0.7231164  0.78067595 0.8418256  0.90454102 0.96582985\n",
            " 1.02187252 1.0685153  1.10187542 1.11870492]\n",
            "29 day output [[1.1163489]]\n",
            "[[0.758023202419281], [0.7357625961303711], [0.6996040940284729], [0.6557790637016296], [0.6104457974433899], [0.5682053565979004], [0.5318491458892822], [0.5026775002479553], [0.4809999167919159], [0.4666078984737396], [0.4591178596019745], [0.45816919207572937], [0.46350693702697754], [0.47498780488967896], [0.49254804849624634], [0.5161628127098083], [0.545812726020813], [0.5814590454101562], [0.6230242252349854], [0.6703506708145142], [0.723116397857666], [0.7806759476661682], [0.8418256044387817], [0.904541015625], [0.9658298492431641], [1.0218725204467773], [1.0685153007507324], [1.1018754243850708], [1.118704915046692], [1.1163488626480103]]\n"
          ]
        }
      ]
    },
    {
      "cell_type": "code",
      "metadata": {
        "id": "ZBk2EMM51y9p"
      },
      "source": [
        "day_new=np.arange(1,101)\n",
        "day_pred=np.arange(101,131)"
      ],
      "execution_count": null,
      "outputs": []
    },
    {
      "cell_type": "code",
      "metadata": {
        "id": "VgYD1GlB1y9p"
      },
      "source": [
        "import matplotlib.pyplot as plt"
      ],
      "execution_count": null,
      "outputs": []
    },
    {
      "cell_type": "code",
      "metadata": {
        "colab": {
          "base_uri": "https://localhost:8080/"
        },
        "id": "SW1QWNzz1y9p",
        "outputId": "87919631-f666-49bd-d9db-e8db88f46ff8"
      },
      "source": [
        "len(df1)"
      ],
      "execution_count": null,
      "outputs": [
        {
          "output_type": "execute_result",
          "data": {
            "text/plain": [
              "1257"
            ]
          },
          "metadata": {},
          "execution_count": 166
        }
      ]
    },
    {
      "cell_type": "code",
      "metadata": {
        "id": "GAbTbEh71y9q"
      },
      "source": [
        ""
      ],
      "execution_count": null,
      "outputs": []
    },
    {
      "cell_type": "code",
      "metadata": {
        "colab": {
          "base_uri": "https://localhost:8080/",
          "height": 297
        },
        "id": "bJ0Hphet1y9q",
        "outputId": "f28c6876-bb69-4d92-bf69-8bb14decdab9"
      },
      "source": [
        "plt.plot(day_new,scaler.inverse_transform(df1[1157:]))\n",
        "plt.plot(day_pred,scaler.inverse_transform(lst_output))\n",
        "plt.legend(['Last 30 days', 'Prediction for the next 30 days'])\n",
        "plt.xlabel('Days')\n",
        "plt.ylabel('Price')"
      ],
      "execution_count": null,
      "outputs": [
        {
          "output_type": "execute_result",
          "data": {
            "text/plain": [
              "Text(0, 0.5, 'Price')"
            ]
          },
          "metadata": {},
          "execution_count": 167
        },
        {
          "output_type": "display_data",
          "data": {
            "image/png": "[encoded data removed]",
            "text/plain": [
              "<Figure size 432x288 with 1 Axes>"
            ]
          },
          "metadata": {
            "needs_background": "light"
          }
        }
      ]
    },
    {
      "cell_type": "code",
      "metadata": {
        "colab": {
          "base_uri": "https://localhost:8080/",
          "height": 284
        },
        "id": "Za-cLxpU1y9q",
        "outputId": "e9f965ee-ec8f-4f41-f976-ce0170c4abf5"
      },
      "source": [
        "df3=df1.tolist()\n",
        "df3.extend(lst_output)\n",
        "plt.plot(df3[1200:])"
      ],
      "execution_count": null,
      "outputs": [
        {
          "output_type": "execute_result",
          "data": {
            "text/plain": [
              "[<matplotlib.lines.Line2D at 0x7f391f89b5d0>]"
            ]
          },
          "metadata": {},
          "execution_count": 168
        },
        {
          "output_type": "display_data",
          "data": {
            "image/png": "[encoded data removed]",
            "text/plain": [
              "<Figure size 432x288 with 1 Axes>"
            ]
          },
          "metadata": {
            "needs_background": "light"
          }
        }
      ]
    },
    {
      "cell_type": "code",
      "metadata": {
        "id": "1s6QrYmd1y9r"
      },
      "source": [
        "df3=scaler.inverse_transform(df3).tolist()"
      ],
      "execution_count": null,
      "outputs": []
    },
    {
      "cell_type": "code",
      "metadata": {
        "colab": {
          "base_uri": "https://localhost:8080/",
          "height": 284
        },
        "id": "NeQsjCtg1y9r",
        "outputId": "c113cdc4-3911-4a90-adea-c6bf4689eac9"
      },
      "source": [
        "plt.plot(df3)"
      ],
      "execution_count": null,
      "outputs": [
        {
          "output_type": "execute_result",
          "data": {
            "text/plain": [
              "[<matplotlib.lines.Line2D at 0x7f391f8e0710>]"
            ]
          },
          "metadata": {},
          "execution_count": 170
        },
        {
          "output_type": "display_data",
          "data": {
            "image/png": "[encoded data removed]",
            "text/plain": [
              "<Figure size 432x288 with 1 Axes>"
            ]
          },
          "metadata": {
            "needs_background": "light"
          }
        }
      ]
    },
    {
      "cell_type": "code",
      "metadata": {
        "id": "ndE_KXWM1y9r"
      },
      "source": [
        ""
      ],
      "execution_count": null,
      "outputs": []
    }
  ]
}