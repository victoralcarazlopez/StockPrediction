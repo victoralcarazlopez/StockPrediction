{
 "cells": [
  {
   "cell_type": "code",
   "execution_count": 2,
   "metadata": {},
   "outputs": [],
   "source": [
    "import pandas_datareader as pdr\n",
    "import pandas as pd\n",
    "import config\n",
    "import time\n"
   ]
  },
  {
   "cell_type": "code",
   "execution_count": 3,
   "metadata": {},
   "outputs": [],
   "source": [
    "# RECOLECCION DE LOS DATOS\n",
    "\n",
    "# Cargamos nuestra API_Key personal de Tiingo desde el fichero config.py (no incluido)\n",
    "key = config.api_key\n",
    "\n",
    "# Lista con todos los datagrames de cada empresa que se va a analizar\n",
    "companies = [] \n"
   ]
  },
  {
   "cell_type": "code",
   "execution_count": 4,
   "metadata": {},
   "outputs": [],
   "source": [
    "# Tomamos los simbolos de las empresas del NASDAQ_1\n",
    "dfsymbols = pd.read_csv('files/Symbols_Nasdaq100.txt', sep = ' ', header=None)"
   ]
  },
  {
   "cell_type": "code",
   "execution_count": 1,
   "metadata": {},
   "outputs": [],
   "source": [
    "def collect(companies, dfsymbols, inicio, fin):\n",
    "    for i in range(inicio, fin):\n",
    "        company = str(dfsymbols[0][i])\n",
    "        print(f\"Recolectando datos de {company}...\")\n",
    "        dfcompany = pdr.get_data_tiingo(company, api_key=key)\n",
    "        #print(dfcompany)\n",
    "        companies.append(dfcompany) "
   ]
  },
  {
   "cell_type": "code",
   "execution_count": 13,
   "metadata": {},
   "outputs": [
    {
     "name": "stdout",
     "output_type": "stream",
     "text": [
      "35\n"
     ]
    }
   ],
   "source": [
    "slice = int(len(dfsymbols)/3) # slice = 35\n",
    "inicio = 0\n",
    "fin = slice \n",
    "\n",
    "#collect(companies, dfsymbols, inicio, fin)\n",
    "\n",
    "\n",
    "\n",
    "\n",
    "\n",
    "\n"
   ]
  },
  {
   "cell_type": "code",
   "execution_count": null,
   "metadata": {},
   "outputs": [],
   "source": [
    "time.sleep(3600)"
   ]
  },
  {
   "cell_type": "code",
   "execution_count": 10,
   "metadata": {},
   "outputs": [
    {
     "ename": "TypeError",
     "evalue": "unsupported operand type(s) for +: 'type' and 'int'",
     "output_type": "error",
     "traceback": [
      "\u001b[1;31m---------------------------------------------------------------------------\u001b[0m",
      "\u001b[1;31mTypeError\u001b[0m                                 Traceback (most recent call last)",
      "\u001b[1;32mc:\\Users\\victo\\Google Drive\\TFG\\StockPrediction\\Data_Collection.ipynb Cell 7'\u001b[0m in \u001b[0;36m<cell line: 1>\u001b[1;34m()\u001b[0m\n\u001b[1;32m----> <a href='vscode-notebook-cell:/c%3A/Users/victo/Google%20Drive/TFG/StockPrediction/Data_Collection.ipynb#ch0000007?line=0'>1</a>\u001b[0m inicio \u001b[39m=\u001b[39m (\u001b[39mslice\u001b[39;49m\u001b[39m+\u001b[39;49m\u001b[39m1\u001b[39;49m)\u001b[39m#36 en adelante\u001b[39;00m\n\u001b[0;32m      <a href='vscode-notebook-cell:/c%3A/Users/victo/Google%20Drive/TFG/StockPrediction/Data_Collection.ipynb#ch0000007?line=1'>2</a>\u001b[0m \u001b[39mprint\u001b[39m(inicio)\n\u001b[0;32m      <a href='vscode-notebook-cell:/c%3A/Users/victo/Google%20Drive/TFG/StockPrediction/Data_Collection.ipynb#ch0000007?line=2'>3</a>\u001b[0m fin \u001b[39m=\u001b[39m \u001b[39mint\u001b[39m(inicio\u001b[39m+\u001b[39m\u001b[39mint\u001b[39m(\u001b[39mlen\u001b[39m(dfsymbols)\u001b[39m/\u001b[39m\u001b[39m3\u001b[39m)) \u001b[39m#71\u001b[39;00m\n",
      "\u001b[1;31mTypeError\u001b[0m: unsupported operand type(s) for +: 'type' and 'int'"
     ]
    }
   ],
   "source": [
    "inicio = (slice+1)#36 en adelante\n",
    "print(inicio)\n",
    "fin = int(inicio+int(len(dfsymbols)/3)) #71\n",
    "print(fin)"
   ]
  },
  {
   "cell_type": "code",
   "execution_count": null,
   "metadata": {},
   "outputs": [],
   "source": []
  },
  {
   "cell_type": "code",
   "execution_count": null,
   "metadata": {},
   "outputs": [],
   "source": [
    "inicio = int(int(len(dfsymbols)/3)) #71"
   ]
  },
  {
   "cell_type": "code",
   "execution_count": null,
   "metadata": {},
   "outputs": [],
   "source": [
    "# CREACIÓN DE FICHEROS PARA EVITAR HACER LLAMADAS A LA API CADA VEZ QUE QUERAMOS EJECUTAR LA LIBRETA\n",
    "for i in range(len(dfnasdaq)):\n",
    "    company = str(dfsymbols[0][i])  \n",
    "    companies[i].to_csv(f\"files/{company}.csv\")"
   ]
  }
 ],
 "metadata": {
  "interpreter": {
   "hash": "7044b324f88c4208d441c8fce3c8f6c454026eeaf7e810a2852062e3590255dc"
  },
  "kernelspec": {
   "display_name": "Python 3.9.11 ('tf')",
   "language": "python",
   "name": "python3"
  },
  "language_info": {
   "codemirror_mode": {
    "name": "ipython",
    "version": 3
   },
   "file_extension": ".py",
   "mimetype": "text/x-python",
   "name": "python",
   "nbconvert_exporter": "python",
   "pygments_lexer": "ipython3",
   "version": "3.9.11"
  },
  "orig_nbformat": 4
 },
 "nbformat": 4,
 "nbformat_minor": 2
}
